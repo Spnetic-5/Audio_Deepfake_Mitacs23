{
 "cells": [
  {
   "cell_type": "code",
   "execution_count": 1,
   "id": "ad152bb1",
   "metadata": {},
   "outputs": [],
   "source": [
    "from __future__ import division\n",
    "import numpy as np\n",
    "import pandas as pd\n",
    "from scipy.signal import hamming\n",
    "from srmrpy.hilbert import hilbert\n",
    "from srmrpy.modulation_filters import *\n",
    "from gammatone.fftweight import fft_gtgram\n",
    "from gammatone.filters import centre_freqs, make_erb_filters, erb_filterbank\n",
    "from srmrpy.segmentaxis import segment_axis\n",
    "from scipy.io.wavfile import read as readwav\n",
    "import soundfile as sf\n",
    "from tqdm import tqdm\n",
    "import matplotlib.pyplot as plt\n",
    "import seaborn as sns"
   ]
  },
  {
   "cell_type": "code",
   "execution_count": 3,
   "id": "43e9ac04",
   "metadata": {},
   "outputs": [],
   "source": [
    "def calc_erbs(low_freq, fs, n_filters):\n",
    "    ear_q = 9.26449 # Glasberg and Moore Parameters\n",
    "    min_bw = 24.7\n",
    "    order = 1\n",
    "\n",
    "    erbs = ((centre_freqs(fs, n_filters, low_freq)/ear_q)**order + min_bw**order)**(1/order)\n",
    "    return erbs\n",
    "\n",
    "def calc_cutoffs(cfs, fs, q):\n",
    "    # Calculates cutoff frequencies (3 dB) for 2nd order bandpass\n",
    "    w0 = 2*np.pi*cfs/fs\n",
    "    B0 = np.tan(w0/2)/q\n",
    "    L = cfs - (B0 * fs / (2*np.pi))\n",
    "    R = cfs + (B0 * fs / (2*np.pi))\n",
    "    return L, R\n",
    "\n",
    "def normalize_energy(energy, drange=30.0):\n",
    "    peak_energy = np.max(np.mean(energy, axis=0))\n",
    "    min_energy = peak_energy*10.0**(-drange/10.0)\n",
    "    energy[energy < min_energy] = min_energy\n",
    "    energy[energy > peak_energy] = peak_energy\n",
    "    return energy\n",
    "\n",
    "def srmr(x, fs, n_cochlear_filters=23, low_freq=125, min_cf=4, max_cf=128, fast=True, norm=False):\n",
    "    wLengthS = .256\n",
    "    wIncS = .064\n",
    "    # Computing gammatone envelopes\n",
    "    if fast:\n",
    "        mfs = 400.0\n",
    "        gt_env = fft_gtgram(x, fs, 0.010, 0.0025, n_cochlear_filters, low_freq)\n",
    "    else:\n",
    "        cfs = centre_freqs(fs, n_cochlear_filters, low_freq)\n",
    "        fcoefs = make_erb_filters(fs, cfs)\n",
    "        gt_env = np.abs(hilbert(erb_filterbank(x, fcoefs)))\n",
    "        mfs = fs\n",
    "\n",
    "    wLength = int(np.ceil(wLengthS*mfs))\n",
    "    wInc = int(np.ceil(wIncS*mfs))\n",
    "\n",
    "    # Computing modulation filterbank with Q = 2 and 8 channels\n",
    "    mod_filter_cfs = compute_modulation_cfs(min_cf, max_cf, 8)\n",
    "    MF = modulation_filterbank(mod_filter_cfs, mfs, 2)\n",
    "\n",
    "    n_frames = int(1 + (gt_env.shape[1] - wLength)//wInc)\n",
    "    w = hamming(wLength+1)[:-1] # window is periodic, not symmetric\n",
    "\n",
    "    energy = np.zeros((n_cochlear_filters, 8, n_frames))\n",
    "    for i, ac_ch in enumerate(gt_env):\n",
    "        mod_out = modfilt(MF, ac_ch)\n",
    "        for j, mod_ch in enumerate(mod_out):\n",
    "            mod_out_frame = segment_axis(mod_ch, wLength, overlap=wLength-wInc, end='pad')\n",
    "            energy[i,j,:] = np.sum((w*mod_out_frame[:n_frames])**2, axis=1)\n",
    "\n",
    "    if norm:\n",
    "        energy = normalize_energy(energy)\n",
    "\n",
    "    erbs = np.flipud(calc_erbs(low_freq, fs, n_cochlear_filters))\n",
    "\n",
    "    avg_energy = np.mean(energy, axis=2)\n",
    "    total_energy = np.sum(avg_energy)\n",
    "\n",
    "    AC_energy = np.sum(avg_energy, axis=1)\n",
    "    AC_perc = AC_energy*100/total_energy\n",
    "\n",
    "    AC_perc_cumsum=np.cumsum(np.flipud(AC_perc))\n",
    "    K90perc_idx = np.where(AC_perc_cumsum>90)[0][0]\n",
    "\n",
    "    BW = erbs[K90perc_idx]\n",
    "\n",
    "    cutoffs = calc_cutoffs(mod_filter_cfs, fs, 2)[0]\n",
    "\n",
    "    if (BW > cutoffs[4]) and (BW < cutoffs[5]):\n",
    "        Kstar=5\n",
    "    elif (BW > cutoffs[5]) and (BW < cutoffs[6]):\n",
    "        Kstar=6\n",
    "    elif (BW > cutoffs[6]) and (BW < cutoffs[7]):\n",
    "        Kstar=7\n",
    "    elif (BW > cutoffs[7]):\n",
    "        Kstar=8\n",
    "\n",
    "    return np.sum(avg_energy[:, :4])/np.sum(avg_energy[:, 4:Kstar]), energy\n",
    "\n",
    "def read_audio_file(filename):\n",
    "    # Use soundfile to read the .flac audio file\n",
    "    audio_data, fs = sf.read(filename, always_2d=True, dtype='float32')\n",
    "    # Normalize the audio data to the range [-1, 1]\n",
    "    audio_data /= np.max(np.abs(audio_data))\n",
    "    return fs, audio_data\n",
    "\n",
    "def process_file(f, n_cochlear_filters=23, low_freq=125, min_cf=4, max_cf=128, fast=True, norm=True):\n",
    "    fs, s = read_audio_file(f)  # Use read_audio_file to handle .flac files\n",
    "    if len(s.shape) > 1:\n",
    "        s = s[:, 0]\n",
    "    r, energy = srmr(s, fs, n_cochlear_filters=n_cochlear_filters,\n",
    "                     min_cf=min_cf,\n",
    "                     max_cf=max_cf,\n",
    "                     fast=fast,\n",
    "                     norm=norm)\n",
    "    return energy, r"
   ]
  },
  {
   "cell_type": "code",
   "execution_count": 4,
   "id": "74ed1d46",
   "metadata": {},
   "outputs": [],
   "source": [
    "BASE_PATH = '/home/sspowar/scratch/archive/LA/LA'"
   ]
  },
  {
   "cell_type": "code",
   "execution_count": 5,
   "id": "283c6076",
   "metadata": {},
   "outputs": [
    {
     "name": "stdout",
     "output_type": "stream",
     "text": [
      "Train Samples: 25380\n"
     ]
    }
   ],
   "source": [
    "# TRAIN\n",
    "\n",
    "train_df = pd.read_csv(f'{BASE_PATH}/ASVspoof2019_LA_cm_protocols/ASVspoof2019.LA.cm.train.trn.txt',\n",
    "                       sep=\" \", header=None)\n",
    "train_df.columns =['speaker_id','filename','system_id','type','class_name']\n",
    "# train_df.drop(columns=['null'],inplace=True)\n",
    "train_df['filepath'] = f'{BASE_PATH}/ASVspoof2019_LA_train/flac/'+train_df.filename+'.flac'\n",
    "train_df['target'] = (train_df.class_name=='spoof').astype('int32') # set labels 1 for fake and 0 for real\n",
    "# if DEBUG:\n",
    "#     train_df = train_df.groupby(['target']).sample(2500).reset_index(drop=True)\n",
    "print(f'Train Samples: {len(train_df)}')"
   ]
  },
  {
   "cell_type": "code",
   "execution_count": 6,
   "id": "9b3cedc5",
   "metadata": {},
   "outputs": [
    {
     "data": {
      "text/html": [
       "<div>\n",
       "<style scoped>\n",
       "    .dataframe tbody tr th:only-of-type {\n",
       "        vertical-align: middle;\n",
       "    }\n",
       "\n",
       "    .dataframe tbody tr th {\n",
       "        vertical-align: top;\n",
       "    }\n",
       "\n",
       "    .dataframe thead th {\n",
       "        text-align: right;\n",
       "    }\n",
       "</style>\n",
       "<table border=\"1\" class=\"dataframe\">\n",
       "  <thead>\n",
       "    <tr style=\"text-align: right;\">\n",
       "      <th></th>\n",
       "      <th>speaker_id</th>\n",
       "      <th>filename</th>\n",
       "      <th>system_id</th>\n",
       "      <th>type</th>\n",
       "      <th>class_name</th>\n",
       "      <th>filepath</th>\n",
       "      <th>target</th>\n",
       "    </tr>\n",
       "  </thead>\n",
       "  <tbody>\n",
       "    <tr>\n",
       "      <th>0</th>\n",
       "      <td>LA_0079</td>\n",
       "      <td>LA_T_1138215</td>\n",
       "      <td>-</td>\n",
       "      <td>-</td>\n",
       "      <td>bonafide</td>\n",
       "      <td>/home/sspowar/scratch/archive/LA/LA/ASVspoof20...</td>\n",
       "      <td>0</td>\n",
       "    </tr>\n",
       "    <tr>\n",
       "      <th>1</th>\n",
       "      <td>LA_0079</td>\n",
       "      <td>LA_T_1271820</td>\n",
       "      <td>-</td>\n",
       "      <td>-</td>\n",
       "      <td>bonafide</td>\n",
       "      <td>/home/sspowar/scratch/archive/LA/LA/ASVspoof20...</td>\n",
       "      <td>0</td>\n",
       "    </tr>\n",
       "    <tr>\n",
       "      <th>2</th>\n",
       "      <td>LA_0079</td>\n",
       "      <td>LA_T_1272637</td>\n",
       "      <td>-</td>\n",
       "      <td>-</td>\n",
       "      <td>bonafide</td>\n",
       "      <td>/home/sspowar/scratch/archive/LA/LA/ASVspoof20...</td>\n",
       "      <td>0</td>\n",
       "    </tr>\n",
       "    <tr>\n",
       "      <th>3</th>\n",
       "      <td>LA_0079</td>\n",
       "      <td>LA_T_1276960</td>\n",
       "      <td>-</td>\n",
       "      <td>-</td>\n",
       "      <td>bonafide</td>\n",
       "      <td>/home/sspowar/scratch/archive/LA/LA/ASVspoof20...</td>\n",
       "      <td>0</td>\n",
       "    </tr>\n",
       "    <tr>\n",
       "      <th>4</th>\n",
       "      <td>LA_0079</td>\n",
       "      <td>LA_T_1341447</td>\n",
       "      <td>-</td>\n",
       "      <td>-</td>\n",
       "      <td>bonafide</td>\n",
       "      <td>/home/sspowar/scratch/archive/LA/LA/ASVspoof20...</td>\n",
       "      <td>0</td>\n",
       "    </tr>\n",
       "  </tbody>\n",
       "</table>\n",
       "</div>"
      ],
      "text/plain": [
       "  speaker_id      filename system_id type class_name  \\\n",
       "0    LA_0079  LA_T_1138215         -    -   bonafide   \n",
       "1    LA_0079  LA_T_1271820         -    -   bonafide   \n",
       "2    LA_0079  LA_T_1272637         -    -   bonafide   \n",
       "3    LA_0079  LA_T_1276960         -    -   bonafide   \n",
       "4    LA_0079  LA_T_1341447         -    -   bonafide   \n",
       "\n",
       "                                            filepath  target  \n",
       "0  /home/sspowar/scratch/archive/LA/LA/ASVspoof20...       0  \n",
       "1  /home/sspowar/scratch/archive/LA/LA/ASVspoof20...       0  \n",
       "2  /home/sspowar/scratch/archive/LA/LA/ASVspoof20...       0  \n",
       "3  /home/sspowar/scratch/archive/LA/LA/ASVspoof20...       0  \n",
       "4  /home/sspowar/scratch/archive/LA/LA/ASVspoof20...       0  "
      ]
     },
     "execution_count": 6,
     "metadata": {},
     "output_type": "execute_result"
    }
   ],
   "source": [
    "train_df.head()"
   ]
  },
  {
   "cell_type": "code",
   "execution_count": 7,
   "id": "45fc9952",
   "metadata": {},
   "outputs": [],
   "source": [
    "# Separate real and fake recordings\n",
    "real_recordings = train_df[train_df['target'] == 0]['filepath'].tolist()\n",
    "fake_recordings = train_df[train_df['target'] == 1]['filepath'].tolist()\n"
   ]
  },
  {
   "cell_type": "code",
   "execution_count": 28,
   "id": "b911ca96-0b29-43f0-b5ad-53943707bb7e",
   "metadata": {},
   "outputs": [],
   "source": [
    "real_recordings = train_df[train_df['class_name'] == 'bonafide']['filepath'].tolist()\n",
    "\n",
    "spoof_recordings_A01 = train_df[train_df['class_name'] == 'spoof']['filepath'][train_df['type'] == 'A01'].tolist()\n",
    "spoof_recordings_A02 = train_df[train_df['class_name'] == 'spoof']['filepath'][train_df['type'] == 'A02'].tolist()\n",
    "spoof_recordings_A03 = train_df[train_df['class_name'] == 'spoof']['filepath'][train_df['type'] == 'A03'].tolist()\n",
    "spoof_recordings_A04 = train_df[train_df['class_name'] == 'spoof']['filepath'][train_df['type'] == 'A04'].tolist()\n",
    "spoof_recordings_A05 = train_df[train_df['class_name'] == 'spoof']['filepath'][train_df['type'] == 'A05'].tolist()\n",
    "spoof_recordings_A06 = train_df[train_df['class_name'] == 'spoof']['filepath'][train_df['type'] == 'A06'].tolist()\n"
   ]
  },
  {
   "cell_type": "code",
   "execution_count": 9,
   "id": "d0cf91d5-d35e-48ab-b639-7a065776f20d",
   "metadata": {},
   "outputs": [
    {
     "data": {
      "text/plain": [
       "25380"
      ]
     },
     "execution_count": 9,
     "metadata": {},
     "output_type": "execute_result"
    }
   ],
   "source": [
    "all_recordings = train_df['filepath'].tolist()\n",
    "len(all_recordings)"
   ]
  },
  {
   "cell_type": "code",
   "execution_count": 29,
   "id": "d412d282-d515-422d-8dda-502075b5b04e",
   "metadata": {},
   "outputs": [
    {
     "name": "stdout",
     "output_type": "stream",
     "text": [
      "3800 3800 3800 3800 3800 3800\n",
      "2580\n"
     ]
    }
   ],
   "source": [
    "print(len(spoof_recordings_A01),\n",
    "len(spoof_recordings_A02),\n",
    "len(spoof_recordings_A03),\n",
    "len(spoof_recordings_A04),\n",
    "len(spoof_recordings_A05),\n",
    "len(spoof_recordings_A06))\n",
    "print(len(real_recordings))"
   ]
  },
  {
   "cell_type": "code",
   "execution_count": 10,
   "id": "faf2658d-4ff3-4ce6-9820-a39b805d6511",
   "metadata": {},
   "outputs": [],
   "source": [
    "def plot_srmr(average_energy_real, average_energy_fake, save_path=None):\n",
    "    # Calculate the maximum value of energy among both real and fake recordings\n",
    "    max_energy = max(np.max(average_energy_real), np.max(average_energy_fake))\n",
    "\n",
    "    # Plot the average energy for each cochlear filter and frame for both real and fake recordings\n",
    "    plt.figure(figsize=(12, 4))\n",
    "    plt.subplot(1, 2, 1)\n",
    "    plt.title('Average SRMR for Real Recordings')\n",
    "    sns.heatmap(average_energy_real.T, cmap='viridis', xticklabels=10, yticklabels=10, vmax=max_energy)\n",
    "    plt.xlabel('Cochlear Filters')\n",
    "    plt.ylabel('Frames')\n",
    "\n",
    "    plt.subplot(1, 2, 2)\n",
    "    plt.title('Average SRMR for Fake Recordings')\n",
    "    sns.heatmap(average_energy_fake.T, cmap='viridis', xticklabels=10, yticklabels=10, vmax=max_energy)\n",
    "    plt.xlabel('Cochlear Filters')\n",
    "    plt.ylabel('Frames')\n",
    "    plt.tight_layout()\n",
    "\n",
    "    if save_path is not None:\n",
    "        plt.savefig(save_path)\n",
    "\n",
    "    plt.show()\n",
    "\n",
    "\n",
    "def calculate_average_srmr(recordings):\n",
    "    total_energy = None\n",
    "    n_recordings = len(recordings)\n",
    "    \n",
    "    for recording in tqdm(recordings, desc=\"Calculating SRMR\", unit=\"file\", leave=False):\n",
    "        energy, r = process_file(recording)\n",
    "        \n",
    "        # Average along the time axis (axis 2) for each recording\n",
    "        avg_energy = np.mean(energy, axis=2)\n",
    "        \n",
    "        # Sum up the average energy for each recording\n",
    "        if total_energy is None:\n",
    "            total_energy = avg_energy\n",
    "        else:\n",
    "            total_energy += avg_energy\n",
    "\n",
    "    # Calculate the average energy across all recordings\n",
    "    average_energy = total_energy / n_recordings\n",
    "    return average_energy"
   ]
  },
  {
   "cell_type": "code",
   "execution_count": 30,
   "id": "b187db5b-c3f0-4a39-a5d5-442543826740",
   "metadata": {},
   "outputs": [
    {
     "name": "stderr",
     "output_type": "stream",
     "text": [
      "                                                                                   "
     ]
    },
    {
     "name": "stdout",
     "output_type": "stream",
     "text": [
      "(23, 8)\n",
      "23\n"
     ]
    },
    {
     "name": "stderr",
     "output_type": "stream",
     "text": [
      "\r"
     ]
    }
   ],
   "source": [
    "average_real_energy = calculate_average_srmr(real_recordings)\n",
    "\n",
    "print(average_real_energy.shape)\n",
    "print(len(average_real_energy))\n"
   ]
  },
  {
   "cell_type": "code",
   "execution_count": 31,
   "id": "76c08713-0364-46c9-966d-55629f8b1765",
   "metadata": {},
   "outputs": [],
   "source": [
    "np.save('average_real_energy.npy', average_real_energy)\n",
    "# loaded_average_real_energy = np.load('average_real_energy.npy')"
   ]
  },
  {
   "cell_type": "code",
   "execution_count": 32,
   "id": "dd4d1ca4-35cc-497b-8510-db9862c6842a",
   "metadata": {},
   "outputs": [
    {
     "name": "stderr",
     "output_type": "stream",
     "text": [
      "                                                                                   "
     ]
    },
    {
     "name": "stdout",
     "output_type": "stream",
     "text": [
      "(23, 8)\n",
      "23\n"
     ]
    },
    {
     "name": "stderr",
     "output_type": "stream",
     "text": [
      "\r"
     ]
    }
   ],
   "source": [
    "average_A01_energy = calculate_average_srmr(spoof_recordings_A01)\n",
    "print(average_A01_energy.shape)\n",
    "print(len(average_A01_energy))"
   ]
  },
  {
   "cell_type": "code",
   "execution_count": 33,
   "id": "133413ea-82be-402c-9f07-ccf8a532fb9a",
   "metadata": {},
   "outputs": [],
   "source": [
    "np.save('average_A01_energy.npy', average_A01_energy)"
   ]
  },
  {
   "cell_type": "code",
   "execution_count": 34,
   "id": "2d637aa2-aeb5-4bf3-9a1d-ee84ccee9c69",
   "metadata": {},
   "outputs": [
    {
     "data": {
      "image/png": "[encoded data removed]",
      "text/plain": [
       "<Figure size 1200x400 with 4 Axes>"
      ]
     },
     "metadata": {},
     "output_type": "display_data"
    }
   ],
   "source": [
    "plot_srmr(average_real_energy, average_A01_energy, save_path='average_srmr_plot.png')"
   ]
  },
  {
   "cell_type": "code",
   "execution_count": 35,
   "id": "e1f53c90-1f8b-4641-8aff-599ddbff4eeb",
   "metadata": {},
   "outputs": [
    {
     "name": "stderr",
     "output_type": "stream",
     "text": [
      "                                                                                   \r"
     ]
    }
   ],
   "source": [
    "average_A02_energy = calculate_average_srmr(spoof_recordings_A02)\n",
    "np.save('average_A02_energy.npy', average_A02_energy)"
   ]
  },
  {
   "cell_type": "code",
   "execution_count": 36,
   "id": "35d197cd-293f-43d6-b30f-48cc32215c95",
   "metadata": {},
   "outputs": [
    {
     "name": "stderr",
     "output_type": "stream",
     "text": [
      "                                                                                   \r"
     ]
    }
   ],
   "source": [
    "average_A03_energy = calculate_average_srmr(spoof_recordings_A03)\n",
    "np.save('average_A03_energy.npy', average_A03_energy)"
   ]
  },
  {
   "cell_type": "code",
   "execution_count": 37,
   "id": "5f3b3598-a628-432a-ac59-076b73d2ed4a",
   "metadata": {},
   "outputs": [
    {
     "name": "stderr",
     "output_type": "stream",
     "text": [
      "                                                                                   \r"
     ]
    }
   ],
   "source": [
    "average_A04_energy = calculate_average_srmr(spoof_recordings_A04)\n",
    "np.save('average_A04_energy.npy', average_A04_energy)"
   ]
  },
  {
   "cell_type": "code",
   "execution_count": 38,
   "id": "300735c1-bfc4-4bc7-98fb-75d871000b43",
   "metadata": {},
   "outputs": [
    {
     "name": "stderr",
     "output_type": "stream",
     "text": [
      "                                                                                   \r"
     ]
    }
   ],
   "source": [
    "average_A05_energy = calculate_average_srmr(spoof_recordings_A05)\n",
    "np.save('average_A05_energy.npy', average_A05_energy)"
   ]
  },
  {
   "cell_type": "code",
   "execution_count": 39,
   "id": "5703a50e-afe5-4854-83ac-253f030652ec",
   "metadata": {},
   "outputs": [
    {
     "name": "stderr",
     "output_type": "stream",
     "text": [
      "                                                                                   \r"
     ]
    }
   ],
   "source": [
    "average_A06_energy = calculate_average_srmr(spoof_recordings_A06)\n",
    "np.save('average_A06_energy.npy', average_A06_energy)"
   ]
  },
  {
   "cell_type": "code",
   "execution_count": 41,
   "id": "1bd7ebe9-5086-4547-9b09-26402bbcea5d",
   "metadata": {},
   "outputs": [],
   "source": [
    "def plot_srmr(average_energies, save_path=None):\n",
    "    # Calculate the maximum value of energy among all recordings\n",
    "    max_energy = np.max([np.max(energy) for energy in average_energies])\n",
    "\n",
    "    # Plot the average energy for each cochlear filter and frame for each recording type\n",
    "    n_recordings = len(average_energies)\n",
    "    plt.figure(figsize=(5 * n_recordings, 4))\n",
    "    for i, energy in enumerate(average_energies):\n",
    "        plt.subplot(1, n_recordings, i + 1)\n",
    "        plt.title(f'Average SRMR for {\"Real Recordings\" if i == 0 else f\"Fake Spoof {i}\"}')\n",
    "        sns.heatmap(energy.T, cmap='viridis', xticklabels=10, yticklabels=10, vmax=max_energy)\n",
    "        plt.xlabel('Cochlear Filters')\n",
    "        plt.ylabel('Frames')\n",
    "\n",
    "    plt.tight_layout()\n",
    "\n",
    "    if save_path is not None:\n",
    "        plt.savefig(save_path)\n",
    "\n",
    "    plt.show()"
   ]
  },
  {
   "cell_type": "code",
   "execution_count": 42,
   "id": "1ff8ad76-e785-4cf3-beb7-0cb67948f474",
   "metadata": {},
   "outputs": [
    {
     "data": {
      "image/png": "[encoded data removed]",
      "text/plain": [
       "<Figure size 3500x400 with 14 Axes>"
      ]
     },
     "metadata": {},
     "output_type": "display_data"
    }
   ],
   "source": [
    "average_energies = [average_real_energy, average_A01_energy, average_A02_energy, average_A03_energy, average_A04_energy, average_A05_energy, average_A06_energy]\n",
    "plot_srmr(average_energies, save_path='all_energies_plot.png')"
   ]
  },
  {
   "cell_type": "code",
   "execution_count": null,
   "id": "e9eecc9a-98be-4e01-9a76-184ab68ed729",
   "metadata": {},
   "outputs": [],
   "source": []
  },
  {
   "cell_type": "code",
   "execution_count": null,
   "id": "8555e269-040a-4710-9bee-ff13373829f9",
   "metadata": {},
   "outputs": [],
   "source": []
  }
 ],
 "metadata": {
  "kernelspec": {
   "display_name": "Python 3 (ipykernel)",
   "language": "python",
   "name": "python3"
  },
  "language_info": {
   "codemirror_mode": {
    "name": "ipython",
    "version": 3
   },
   "file_extension": ".py",
   "mimetype": "text/x-python",
   "name": "python",
   "nbconvert_exporter": "python",
   "pygments_lexer": "ipython3",
   "version": "3.8.10"
  }
 },
 "nbformat": 4,
 "nbformat_minor": 5
}
