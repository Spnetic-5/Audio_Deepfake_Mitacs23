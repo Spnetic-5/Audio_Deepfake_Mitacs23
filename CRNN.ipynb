{
 "cells": [
  {
   "cell_type": "code",
   "execution_count": 1,
   "id": "8cad1b08-1344-4ed5-a05e-727348b145fa",
   "metadata": {},
   "outputs": [
    {
     "name": "stderr",
     "output_type": "stream",
     "text": [
      "/home/sspowar/cslab/lib/python3.8/site-packages/tqdm/auto.py:21: TqdmWarning: IProgress not found. Please update jupyter and ipywidgets. See https://ipywidgets.readthedocs.io/en/stable/user_install.html\n",
      "  from .autonotebook import tqdm as notebook_tqdm\n"
     ]
    }
   ],
   "source": [
    "from __future__ import division\n",
    "import numpy as np\n",
    "import pandas as pd\n",
    "from scipy.signal import hamming\n",
    "from srmrpy.hilbert import hilbert\n",
    "from srmrpy.modulation_filters import *\n",
    "from gammatone.fftweight import fft_gtgram\n",
    "from gammatone.filters import centre_freqs, make_erb_filters, erb_filterbank\n",
    "from srmrpy.segmentaxis import segment_axis\n",
    "from scipy.io.wavfile import read as readwav\n",
    "import soundfile as sf\n",
    "from tqdm import tqdm\n",
    "import matplotlib.pyplot as plt\n",
    "import seaborn as sns\n",
    "import torch\n",
    "import torch.nn as nn\n",
    "import torch.optim as optim\n",
    "from torch.utils.data import Dataset, DataLoader\n",
    "from tqdm import tqdm\n",
    "from torch.nn.utils.rnn import pad_sequence\n",
    "import torch.nn.functional as F"
   ]
  },
  {
   "cell_type": "code",
   "execution_count": 2,
   "id": "0373c532-2ed1-473c-8bb4-23e14ab21c84",
   "metadata": {},
   "outputs": [],
   "source": [
    "BASE_PATH = '/home/sspowar/scratch/archive/LA/LA'"
   ]
  },
  {
   "cell_type": "code",
   "execution_count": 3,
   "id": "4847f0ae-f26e-451e-884a-5945c49cccc5",
   "metadata": {},
   "outputs": [
    {
     "name": "stdout",
     "output_type": "stream",
     "text": [
      "Train Samples: 25380\n"
     ]
    }
   ],
   "source": [
    "# TRAIN\n",
    "\n",
    "train_df = pd.read_csv(f'{BASE_PATH}/ASVspoof2019_LA_cm_protocols/ASVspoof2019.LA.cm.train.trn.txt',\n",
    "                       sep=\" \", header=None)\n",
    "train_df.columns =['speaker_id','filename','system_id','type','class_name']\n",
    "# train_df.drop(columns=['null'],inplace=True)\n",
    "train_df['filepath'] = f'{BASE_PATH}/ASVspoof2019_LA_train/flac/'+train_df.filename+'.flac'\n",
    "train_df['target'] = (train_df.class_name=='spoof').astype('int32') # set labels 1 for fake and 0 for real\n",
    "# if DEBUG:\n",
    "#     train_df = train_df.groupby(['target']).sample(2500).reset_index(drop=True)\n",
    "print(f'Train Samples: {len(train_df)}')"
   ]
  },
  {
   "cell_type": "code",
   "execution_count": 4,
   "id": "9aa31676-b5d5-419c-9432-3a736ec862b4",
   "metadata": {},
   "outputs": [
    {
     "data": {
      "text/html": [
       "<div>\n",
       "<style scoped>\n",
       "    .dataframe tbody tr th:only-of-type {\n",
       "        vertical-align: middle;\n",
       "    }\n",
       "\n",
       "    .dataframe tbody tr th {\n",
       "        vertical-align: top;\n",
       "    }\n",
       "\n",
       "    .dataframe thead th {\n",
       "        text-align: right;\n",
       "    }\n",
       "</style>\n",
       "<table border=\"1\" class=\"dataframe\">\n",
       "  <thead>\n",
       "    <tr style=\"text-align: right;\">\n",
       "      <th></th>\n",
       "      <th>speaker_id</th>\n",
       "      <th>filename</th>\n",
       "      <th>system_id</th>\n",
       "      <th>type</th>\n",
       "      <th>class_name</th>\n",
       "      <th>filepath</th>\n",
       "      <th>target</th>\n",
       "    </tr>\n",
       "  </thead>\n",
       "  <tbody>\n",
       "    <tr>\n",
       "      <th>0</th>\n",
       "      <td>LA_0079</td>\n",
       "      <td>LA_T_1138215</td>\n",
       "      <td>-</td>\n",
       "      <td>-</td>\n",
       "      <td>bonafide</td>\n",
       "      <td>/home/sspowar/scratch/archive/LA/LA/ASVspoof20...</td>\n",
       "      <td>0</td>\n",
       "    </tr>\n",
       "    <tr>\n",
       "      <th>1</th>\n",
       "      <td>LA_0079</td>\n",
       "      <td>LA_T_1271820</td>\n",
       "      <td>-</td>\n",
       "      <td>-</td>\n",
       "      <td>bonafide</td>\n",
       "      <td>/home/sspowar/scratch/archive/LA/LA/ASVspoof20...</td>\n",
       "      <td>0</td>\n",
       "    </tr>\n",
       "    <tr>\n",
       "      <th>2</th>\n",
       "      <td>LA_0079</td>\n",
       "      <td>LA_T_1272637</td>\n",
       "      <td>-</td>\n",
       "      <td>-</td>\n",
       "      <td>bonafide</td>\n",
       "      <td>/home/sspowar/scratch/archive/LA/LA/ASVspoof20...</td>\n",
       "      <td>0</td>\n",
       "    </tr>\n",
       "    <tr>\n",
       "      <th>3</th>\n",
       "      <td>LA_0079</td>\n",
       "      <td>LA_T_1276960</td>\n",
       "      <td>-</td>\n",
       "      <td>-</td>\n",
       "      <td>bonafide</td>\n",
       "      <td>/home/sspowar/scratch/archive/LA/LA/ASVspoof20...</td>\n",
       "      <td>0</td>\n",
       "    </tr>\n",
       "    <tr>\n",
       "      <th>4</th>\n",
       "      <td>LA_0079</td>\n",
       "      <td>LA_T_1341447</td>\n",
       "      <td>-</td>\n",
       "      <td>-</td>\n",
       "      <td>bonafide</td>\n",
       "      <td>/home/sspowar/scratch/archive/LA/LA/ASVspoof20...</td>\n",
       "      <td>0</td>\n",
       "    </tr>\n",
       "  </tbody>\n",
       "</table>\n",
       "</div>"
      ],
      "text/plain": [
       "  speaker_id      filename system_id type class_name  \\\n",
       "0    LA_0079  LA_T_1138215         -    -   bonafide   \n",
       "1    LA_0079  LA_T_1271820         -    -   bonafide   \n",
       "2    LA_0079  LA_T_1272637         -    -   bonafide   \n",
       "3    LA_0079  LA_T_1276960         -    -   bonafide   \n",
       "4    LA_0079  LA_T_1341447         -    -   bonafide   \n",
       "\n",
       "                                            filepath  target  \n",
       "0  /home/sspowar/scratch/archive/LA/LA/ASVspoof20...       0  \n",
       "1  /home/sspowar/scratch/archive/LA/LA/ASVspoof20...       0  \n",
       "2  /home/sspowar/scratch/archive/LA/LA/ASVspoof20...       0  \n",
       "3  /home/sspowar/scratch/archive/LA/LA/ASVspoof20...       0  \n",
       "4  /home/sspowar/scratch/archive/LA/LA/ASVspoof20...       0  "
      ]
     },
     "execution_count": 4,
     "metadata": {},
     "output_type": "execute_result"
    }
   ],
   "source": [
    "train_df.head()"
   ]
  },
  {
   "cell_type": "code",
   "execution_count": 46,
   "id": "b91c5057-4965-4b93-b8f4-f453c6abba66",
   "metadata": {},
   "outputs": [],
   "source": [
    "def calc_erbs(low_freq, fs, n_filters):\n",
    "    ear_q = 9.26449 # Glasberg and Moore Parameters\n",
    "    min_bw = 24.7\n",
    "    order = 1\n",
    "\n",
    "    erbs = ((centre_freqs(fs, n_filters, low_freq)/ear_q)**order + min_bw**order)**(1/order)\n",
    "    return erbs\n",
    "\n",
    "def calc_cutoffs(cfs, fs, q):\n",
    "    # Calculates cutoff frequencies (3 dB) for 2nd order bandpass\n",
    "    w0 = 2*np.pi*cfs/fs\n",
    "    B0 = np.tan(w0/2)/q\n",
    "    L = cfs - (B0 * fs / (2*np.pi))\n",
    "    R = cfs + (B0 * fs / (2*np.pi))\n",
    "    return L, R\n",
    "\n",
    "def normalize_energy(energy, drange=30.0):\n",
    "    peak_energy = np.max(np.mean(energy, axis=0))\n",
    "    min_energy = peak_energy*10.0**(-drange/10.0)\n",
    "    energy[energy < min_energy] = min_energy\n",
    "    energy[energy > peak_energy] = peak_energy\n",
    "    return energy\n",
    "\n",
    "def srmr(x, fs, n_cochlear_filters=23, low_freq=125, min_cf=4, max_cf=128, fast=True, norm=False):\n",
    "    wLengthS = .256\n",
    "    wIncS = .064\n",
    "    # Computing gammatone envelopes\n",
    "    if fast:\n",
    "        mfs = 400.0\n",
    "        gt_env = fft_gtgram(x, fs, 0.010, 0.0025, n_cochlear_filters, low_freq)\n",
    "    else:\n",
    "        cfs = centre_freqs(fs, n_cochlear_filters, low_freq)\n",
    "        fcoefs = make_erb_filters(fs, cfs)\n",
    "        gt_env = np.abs(hilbert(erb_filterbank(x, fcoefs)))\n",
    "        mfs = fs\n",
    "\n",
    "    wLength = int(np.ceil(wLengthS*mfs))\n",
    "    wInc = int(np.ceil(wIncS*mfs))\n",
    "\n",
    "    # Computing modulation filterbank with Q = 2 and 8 channels\n",
    "    mod_filter_cfs = compute_modulation_cfs(min_cf, max_cf, 8)\n",
    "    MF = modulation_filterbank(mod_filter_cfs, mfs, 2)\n",
    "\n",
    "    n_frames = int(1 + (gt_env.shape[1] - wLength)//wInc)\n",
    "    w = hamming(wLength+1)[:-1] # window is periodic, not symmetric\n",
    "\n",
    "    energy = np.zeros((n_cochlear_filters, 8, n_frames))\n",
    "    for i, ac_ch in enumerate(gt_env):\n",
    "        mod_out = modfilt(MF, ac_ch)\n",
    "        for j, mod_ch in enumerate(mod_out):\n",
    "            mod_out_frame = segment_axis(mod_ch, wLength, overlap=wLength-wInc, end='pad')\n",
    "            energy[i,j,:] = np.sum((w*mod_out_frame[:n_frames])**2, axis=1)\n",
    "\n",
    "    if norm:\n",
    "        energy = normalize_energy(energy)\n",
    "\n",
    "    erbs = np.flipud(calc_erbs(low_freq, fs, n_cochlear_filters))\n",
    "\n",
    "    avg_energy = np.mean(energy, axis=2)\n",
    "    total_energy = np.sum(avg_energy)\n",
    "\n",
    "    AC_energy = np.sum(avg_energy, axis=1)\n",
    "    AC_perc = AC_energy*100/total_energy\n",
    "\n",
    "    AC_perc_cumsum=np.cumsum(np.flipud(AC_perc))\n",
    "    K90perc_idx = np.where(AC_perc_cumsum>90)[0][0]\n",
    "\n",
    "    BW = erbs[K90perc_idx]\n",
    "\n",
    "    cutoffs = calc_cutoffs(mod_filter_cfs, fs, 2)[0]\n",
    "\n",
    "    if (BW > cutoffs[4]) and (BW < cutoffs[5]):\n",
    "        Kstar=5\n",
    "    elif (BW > cutoffs[5]) and (BW < cutoffs[6]):\n",
    "        Kstar=6\n",
    "    elif (BW > cutoffs[6]) and (BW < cutoffs[7]):\n",
    "        Kstar=7\n",
    "    elif (BW > cutoffs[7]):\n",
    "        Kstar=8\n",
    "\n",
    "    return np.sum(avg_energy[:, :4])/np.sum(avg_energy[:, 4:Kstar]), energy\n",
    "\n",
    "\n",
    "def read_audio_file(filename, max_length=64600):\n",
    "    # Use soundfile to read the .flac audio file\n",
    "    audio_data, fs = sf.read(filename, always_2d=True, dtype='float32')\n",
    "    # Normalize the audio data to the range [-1, 1]\n",
    "    audio_data /= np.max(np.abs(audio_data))\n",
    "\n",
    "    # Pad or truncate audio data to the desired max_length\n",
    "    if len(audio_data) < max_length:\n",
    "        padding = max_length - len(audio_data)\n",
    "        audio_data = np.pad(audio_data, ((0, padding), (0, 0)), mode='constant')\n",
    "    elif len(audio_data) > max_length:\n",
    "        audio_data = audio_data[:max_length, :]\n",
    "    return fs, audio_data\n",
    "\n",
    "def process_file(f, n_cochlear_filters=23, low_freq=125, min_cf=4, max_cf=128, fast=True, norm=True):\n",
    "    fs, s = read_audio_file(f)  # Use read_audio_file to handle .flac files\n",
    "    if len(s.shape) > 1:\n",
    "        s = s[:, 0]\n",
    "    r, energy = srmr(s, fs, n_cochlear_filters=n_cochlear_filters,\n",
    "                     min_cf=min_cf,\n",
    "                     max_cf=max_cf,\n",
    "                     fast=fast,\n",
    "                     norm=norm)\n",
    "    return energy, r\n"
   ]
  },
  {
   "cell_type": "code",
   "execution_count": 44,
   "id": "076972cf-cffd-417a-8950-cc89a420d24a",
   "metadata": {},
   "outputs": [],
   "source": [
    "class SRMRDataset(Dataset):\n",
    "    def __init__(self, dataframe):\n",
    "        self.dataframe = dataframe\n",
    "\n",
    "    def __len__(self):\n",
    "        return len(self.dataframe)\n",
    "\n",
    "    def __getitem__(self, idx):\n",
    "        row = self.dataframe.iloc[idx]\n",
    "        filepath = row['filepath']\n",
    "        target = row['target']\n",
    "\n",
    "        # Read the audio file and calculate SRMR\n",
    "        energy, r = process_file(filepath)\n",
    "        \n",
    "        # Convert NumPy array to PyTorch tensor\n",
    "        energy = torch.tensor(energy, dtype=torch.double)\n",
    "        return energy, target"
   ]
  },
  {
   "cell_type": "code",
   "execution_count": 45,
   "id": "d0c98945-17f4-4945-9142-8eb49e751b95",
   "metadata": {},
   "outputs": [],
   "source": [
    "from sklearn.metrics import roc_curve, auc, roc_auc_score\n",
    "\n",
    "def calculate_eer(y_true, y_scores):\n",
    "    fpr, fnr, thresholds = roc_curve(y_true, y_scores, pos_label=1)\n",
    "    eer = fpr[np.nanargmin(np.abs(fpr - (1 - fnr)))]\n",
    "    return eer\n"
   ]
  },
  {
   "cell_type": "code",
   "execution_count": 43,
   "id": "8372eec8-6479-4959-97a3-ae82887ad732",
   "metadata": {},
   "outputs": [],
   "source": [
    "def train(model, device, train_loader, criterion, optimizer, epoch):\n",
    "    model.train()\n",
    "    total_loss = 0.0\n",
    "    total_correct = 0\n",
    "    total_samples = 0\n",
    "    y_true = []\n",
    "    y_scores = []\n",
    "\n",
    "    for batch_idx, (data, target) in enumerate(tqdm(train_loader, desc=f\"Epoch {epoch}\", leave=False)):\n",
    "        data, target = data.to(device), target.to(device)\n",
    "        optimizer.zero_grad()\n",
    "        output = model(data)\n",
    "        loss = criterion(output, target.float())\n",
    "        loss.backward()\n",
    "        optimizer.step()\n",
    "        total_loss += loss.item()\n",
    "\n",
    "        # Calculate accuracy\n",
    "        predicted_labels = (output > 0.5).float()  # Assuming 0.5 threshold for binary classification\n",
    "        total_correct += (predicted_labels == target).sum().item()\n",
    "        total_samples += target.size(0)\n",
    "\n",
    "        # Store true labels and predicted scores for EER calculation\n",
    "        y_true.extend(target.cpu().numpy())\n",
    "        y_scores.extend(output.cpu().detach().numpy())\n",
    "\n",
    "    avg_loss = total_loss / len(train_loader)\n",
    "    accuracy = total_correct / total_samples\n",
    "    eer = calculate_eer(np.array(y_true), np.array(y_scores))\n",
    "    return avg_loss, accuracy, eer"
   ]
  },
  {
   "cell_type": "code",
   "execution_count": 47,
   "id": "0f81cc65-ccd3-4d9c-9c6b-43b2cea1b1a1",
   "metadata": {},
   "outputs": [],
   "source": [
    "class CRNN_Model(nn.Module):\n",
    "    def __init__(self, num_class:int, msr_size:tuple, rnn_hidden_size:int, dropout:float, tem_fac:list):\n",
    "        super(CRNN_Model, self).__init__()\n",
    "        self.num_class = num_class\n",
    "        self.rnn_hidden_size = rnn_hidden_size\n",
    "        self.dp = nn.Dropout(p=dropout)\n",
    "        self.num_freq = msr_size[0]\n",
    "        self.num_mod = msr_size[1]\n",
    "        self.relu = nn.ReLU(inplace=True)\n",
    "        self.sig = nn.Sigmoid()\n",
    "        self.tanh = nn.Tanh()\n",
    "        self.tem_fac = tem_fac\n",
    "        \n",
    "        self.cnn1 = nn.Sequential(\n",
    "            nn.Conv3d(1, 16, kernel_size=(3, 3, 3), stride=(1, 1, 1), padding=(1, 1, 1)),\n",
    "            nn.BatchNorm3d(16),\n",
    "            nn.MaxPool3d((self.tem_fac[0], 1, 1)),\n",
    "            self.relu\n",
    "        )\n",
    "        \n",
    "        self.cnn2 = nn.Sequential(\n",
    "            nn.Conv3d(16, 16, kernel_size=(3, 3, 3), stride=(1, 1, 1), padding=(1, 1, 1)),\n",
    "            nn.BatchNorm3d(16),\n",
    "            nn.MaxPool3d((self.tem_fac[1], 1, 1)),\n",
    "            self.relu\n",
    "        )\n",
    "        \n",
    "        self.cnn3 = nn.Sequential(\n",
    "            nn.Conv3d(16, 4, kernel_size=(3, 3, 3), stride=(1, 1, 1), padding=(1, 1, 1)),\n",
    "            nn.BatchNorm3d(4),\n",
    "            nn.MaxPool3d((self.tem_fac[2], 1, 1)),\n",
    "            self.relu\n",
    "        )\n",
    "        \n",
    "        \n",
    "        self.downsample = nn.MaxPool3d((2,2,2))\n",
    "        \n",
    "        self.CNNblock = nn.Sequential(\n",
    "            self.cnn1,\n",
    "            self.cnn2,\n",
    "            self.cnn3\n",
    "            )\n",
    "        \n",
    "        # self.Att = CBAM_Att(channel=4)\n",
    "        \n",
    "        self.fc1 = nn.Sequential(\n",
    "            nn.Linear(20416, 128),\n",
    "            nn.BatchNorm1d(128),\n",
    "            self.relu,\n",
    "            self.dp\n",
    "            )\n",
    "        \n",
    "        # RNN\n",
    "        self.rnn1 = nn.GRU(input_size=128, \n",
    "                            hidden_size=self.rnn_hidden_size,\n",
    "                            num_layers=3,\n",
    "                            bidirectional=True, \n",
    "                            batch_first=True)\n",
    "        \n",
    "        self.layer_norm = nn.LayerNorm([2*self.rnn_hidden_size,int(150/np.product(self.tem_fac))])\n",
    "        self.maxpool = nn.MaxPool1d(int(150/np.product(self.tem_fac)))\n",
    "        \n",
    "        self.fc2 = nn.Linear(self.rnn_hidden_size*2, 1)\n",
    "        \n",
    "        self.initialize_weights()\n",
    "    \n",
    "    def initialize_weights(self):\n",
    "        for m in self.modules():\n",
    "            if isinstance(m, nn.Conv3d):\n",
    "                nn.init.kaiming_normal_(m.weight, mode='fan_out', nonlinearity='relu')\n",
    "            elif isinstance(m, nn.BatchNorm3d):\n",
    "                nn.init.constant_(m.weight, 1)\n",
    "                nn.init.constant_(m.bias, 0)\n",
    "            elif isinstance(m, nn.Linear):\n",
    "                nn.init.kaiming_normal_(m.weight)\n",
    "    \n",
    "    def forward(self, x):\n",
    "        # Apply the CNN layers\n",
    "        # print(x.shape)\n",
    "        x = x.unsqueeze(1) \n",
    "        # print(x.shape)\n",
    "        ot = self.CNNblock(x)\n",
    "        # Flatten ot to have shape (batch_size, -1)\n",
    "        ot = ot.view(ot.size(0), -1)\n",
    "\n",
    "        # print(ot.shape)\n",
    "        # Pass through the first fully connected layer\n",
    "        ot = self.fc1(ot)\n",
    "        # print(ot.shape)   \n",
    "        # After the RNN layer, ot will have shape (batch_size, time_steps, rnn_hidden_size * 2)\n",
    "        ot, _ = self.rnn1(ot)\n",
    "        # print(\"RNN\", ot.shape)\n",
    "        \n",
    "        ot = self.fc2(ot).squeeze(1).float()\n",
    "        ot = torch.sigmoid(ot)\n",
    "        # print(\"After FC2\", ot.shape, ot)\n",
    "        \n",
    "        return ot"
   ]
  },
  {
   "cell_type": "code",
   "execution_count": 48,
   "id": "855b499d-9505-4a86-a543-cc2b1b36d059",
   "metadata": {},
   "outputs": [],
   "source": [
    "train_dataset = SRMRDataset(train_df[:5000])\n",
    "train_loader = DataLoader(train_dataset, batch_size=16, shuffle=True)"
   ]
  },
  {
   "cell_type": "code",
   "execution_count": 15,
   "id": "2ef59549-d75c-496a-a51b-d32545a130cc",
   "metadata": {
    "scrolled": true
   },
   "outputs": [
    {
     "name": "stderr",
     "output_type": "stream",
     "text": [
      "Epoch 1:   0%|                                             | 0/313 [00:00<?, ?it/s]"
     ]
    },
    {
     "name": "stdout",
     "output_type": "stream",
     "text": [
      "torch.Size([16, 23, 8, 58])\n",
      "torch.Size([16, 1, 23, 8, 58])\n",
      "torch.Size([16, 20416])\n",
      "torch.Size([16, 128])\n",
      "RNN torch.Size([16, 256])\n",
      "After FC2 torch.Size([16]) tensor([0.3916, 0.3902, 0.3758, 0.3621, 0.3549, 0.3676, 0.3811, 0.3910, 0.4057,\n",
      "        0.4185, 0.4174, 0.4542, 0.4680, 0.4898, 0.4990, 0.5049],\n",
      "       grad_fn=<SigmoidBackward0>)\n"
     ]
    },
    {
     "name": "stderr",
     "output_type": "stream",
     "text": [
      "Epoch 1:   0%|                                   | 1/313 [00:26<2:15:49, 26.12s/it]"
     ]
    },
    {
     "name": "stdout",
     "output_type": "stream",
     "text": [
      "torch.Size([16, 23, 8, 58])\n",
      "torch.Size([16, 1, 23, 8, 58])\n",
      "torch.Size([16, 20416])\n",
      "torch.Size([16, 128])\n",
      "RNN torch.Size([16, 256])\n",
      "After FC2 torch.Size([16]) tensor([0.3276, 0.2986, 0.2452, 0.2247, 0.2040, 0.1830, 0.1656, 0.1416, 0.1126,\n",
      "        0.1154, 0.1440, 0.1738, 0.2307, 0.2527, 0.2791, 0.3461],\n",
      "       grad_fn=<SigmoidBackward0>)\n"
     ]
    },
    {
     "name": "stderr",
     "output_type": "stream",
     "text": [
      "Epoch 1:   1%|▏                                  | 2/313 [00:35<1:23:57, 16.20s/it]"
     ]
    },
    {
     "name": "stdout",
     "output_type": "stream",
     "text": [
      "torch.Size([16, 23, 8, 58])\n",
      "torch.Size([16, 1, 23, 8, 58])\n",
      "torch.Size([16, 20416])\n",
      "torch.Size([16, 128])\n",
      "RNN torch.Size([16, 256])\n",
      "After FC2 torch.Size([16]) tensor([0.3123, 0.2836, 0.2669, 0.2291, 0.1936, 0.1761, 0.1526, 0.1398, 0.1303,\n",
      "        0.1198, 0.1313, 0.1538, 0.1516, 0.1454, 0.1709, 0.2051],\n",
      "       grad_fn=<SigmoidBackward0>)\n"
     ]
    },
    {
     "name": "stderr",
     "output_type": "stream",
     "text": [
      "Epoch 1:   1%|▎                                  | 3/313 [00:47<1:13:27, 14.22s/it]"
     ]
    },
    {
     "name": "stdout",
     "output_type": "stream",
     "text": [
      "torch.Size([16, 23, 8, 58])\n",
      "torch.Size([16, 1, 23, 8, 58])\n",
      "torch.Size([16, 20416])\n",
      "torch.Size([16, 128])\n",
      "RNN torch.Size([16, 256])\n",
      "After FC2 torch.Size([16]) tensor([0.3804, 0.2793, 0.2306, 0.1850, 0.1987, 0.2497, 0.2471, 0.2629, 0.2444,\n",
      "        0.1983, 0.1714, 0.1620, 0.1841, 0.1864, 0.2256, 0.2253],\n",
      "       grad_fn=<SigmoidBackward0>)\n"
     ]
    },
    {
     "name": "stderr",
     "output_type": "stream",
     "text": [
      "Epoch 1:   1%|▍                                  | 4/313 [00:59<1:09:06, 13.42s/it]"
     ]
    },
    {
     "name": "stdout",
     "output_type": "stream",
     "text": [
      "torch.Size([16, 23, 8, 58])\n",
      "torch.Size([16, 1, 23, 8, 58])\n",
      "torch.Size([16, 20416])\n",
      "torch.Size([16, 128])\n",
      "RNN torch.Size([16, 256])\n",
      "After FC2 torch.Size([16]) tensor([0.7251, 0.7492, 0.7564, 0.6892, 0.5378, 0.4197, 0.3983, 0.3778, 0.2687,\n",
      "        0.2383, 0.2074, 0.2024, 0.2129, 0.2437, 0.2465, 0.3183],\n",
      "       grad_fn=<SigmoidBackward0>)\n"
     ]
    },
    {
     "name": "stderr",
     "output_type": "stream",
     "text": [
      "Epoch 1:   2%|▌                                  | 5/313 [01:12<1:08:50, 13.41s/it]"
     ]
    },
    {
     "name": "stdout",
     "output_type": "stream",
     "text": [
      "torch.Size([16, 23, 8, 58])\n",
      "torch.Size([16, 1, 23, 8, 58])\n",
      "torch.Size([16, 20416])\n",
      "torch.Size([16, 128])\n",
      "RNN torch.Size([16, 256])\n",
      "After FC2 torch.Size([16]) tensor([0.4369, 0.4347, 0.5220, 0.4818, 0.4520, 0.4904, 0.6345, 0.7672, 0.8334,\n",
      "        0.8360, 0.7918, 0.6428, 0.4442, 0.4086, 0.3660, 0.3408],\n",
      "       grad_fn=<SigmoidBackward0>)\n"
     ]
    },
    {
     "name": "stderr",
     "output_type": "stream",
     "text": [
      "Epoch 1:   2%|▋                                  | 6/313 [01:21<1:01:04, 11.94s/it]"
     ]
    },
    {
     "name": "stdout",
     "output_type": "stream",
     "text": [
      "torch.Size([16, 23, 8, 58])\n",
      "torch.Size([16, 1, 23, 8, 58])\n",
      "torch.Size([16, 20416])\n",
      "torch.Size([16, 128])\n",
      "RNN torch.Size([16, 256])\n",
      "After FC2 torch.Size([16]) tensor([0.6181, 0.5788, 0.4064, 0.2866, 0.2831, 0.4393, 0.5145, 0.5609, 0.5431,\n",
      "        0.5205, 0.5252, 0.5083, 0.3260, 0.2167, 0.1819, 0.2581],\n",
      "       grad_fn=<SigmoidBackward0>)\n"
     ]
    },
    {
     "name": "stderr",
     "output_type": "stream",
     "text": [
      "Epoch 1:   2%|▊                                    | 7/313 [01:30<55:26, 10.87s/it]"
     ]
    },
    {
     "name": "stdout",
     "output_type": "stream",
     "text": [
      "torch.Size([16, 23, 8, 58])\n",
      "torch.Size([16, 1, 23, 8, 58])\n",
      "torch.Size([16, 20416])\n",
      "torch.Size([16, 128])\n",
      "RNN torch.Size([16, 256])\n",
      "After FC2 torch.Size([16]) tensor([0.6551, 0.6678, 0.6823, 0.7771, 0.8666, 0.8700, 0.6838, 0.4921, 0.3110,\n",
      "        0.1804, 0.1362, 0.1268, 0.1384, 0.1875, 0.3527, 0.3876],\n",
      "       grad_fn=<SigmoidBackward0>)\n"
     ]
    },
    {
     "name": "stderr",
     "output_type": "stream",
     "text": [
      "Epoch 1:   3%|▉                                    | 8/313 [01:39<52:17, 10.29s/it]"
     ]
    },
    {
     "name": "stdout",
     "output_type": "stream",
     "text": [
      "torch.Size([16, 23, 8, 58])\n",
      "torch.Size([16, 1, 23, 8, 58])\n",
      "torch.Size([16, 20416])\n",
      "torch.Size([16, 128])\n",
      "RNN torch.Size([16, 256])\n",
      "After FC2 torch.Size([16]) tensor([0.3913, 0.3489, 0.4841, 0.3277, 0.3610, 0.6363, 0.7409, 0.6669, 0.4724,\n",
      "        0.3694, 0.4676, 0.5140, 0.2974, 0.2607, 0.2113, 0.3230],\n",
      "       grad_fn=<SigmoidBackward0>)\n"
     ]
    },
    {
     "name": "stderr",
     "output_type": "stream",
     "text": [
      "Epoch 1:   3%|█                                    | 9/313 [01:48<50:16,  9.92s/it]"
     ]
    },
    {
     "name": "stdout",
     "output_type": "stream",
     "text": [
      "torch.Size([16, 23, 8, 58])\n",
      "torch.Size([16, 1, 23, 8, 58])\n",
      "torch.Size([16, 20416])\n",
      "torch.Size([16, 128])\n",
      "RNN torch.Size([16, 256])\n",
      "After FC2 torch.Size([16]) tensor([0.3109, 0.2093, 0.1902, 0.1416, 0.2013, 0.2113, 0.1004, 0.0886, 0.1236,\n",
      "        0.0708, 0.0178, 0.0082, 0.0087, 0.0168, 0.1131, 0.3148],\n",
      "       grad_fn=<SigmoidBackward0>)\n"
     ]
    },
    {
     "name": "stderr",
     "output_type": "stream",
     "text": [
      "Epoch 1:   3%|█▏                                  | 10/313 [01:58<49:23,  9.78s/it]"
     ]
    },
    {
     "name": "stdout",
     "output_type": "stream",
     "text": [
      "torch.Size([16, 23, 8, 58])\n",
      "torch.Size([16, 1, 23, 8, 58])\n",
      "torch.Size([16, 20416])\n",
      "torch.Size([16, 128])\n",
      "RNN torch.Size([16, 256])\n",
      "After FC2 torch.Size([16]) tensor([0.1568, 0.0419, 0.0242, 0.0069, 0.0070, 0.0356, 0.1101, 0.2378, 0.3003,\n",
      "        0.2378, 0.0599, 0.0658, 0.0555, 0.0274, 0.0407, 0.0738],\n",
      "       grad_fn=<SigmoidBackward0>)\n"
     ]
    },
    {
     "name": "stderr",
     "output_type": "stream",
     "text": [
      "Epoch 1:   4%|█▎                                  | 11/313 [02:07<48:27,  9.63s/it]"
     ]
    },
    {
     "name": "stdout",
     "output_type": "stream",
     "text": [
      "torch.Size([16, 23, 8, 58])\n",
      "torch.Size([16, 1, 23, 8, 58])\n",
      "torch.Size([16, 20416])\n",
      "torch.Size([16, 128])\n",
      "RNN torch.Size([16, 256])\n",
      "After FC2 torch.Size([16]) tensor([0.2611, 0.2535, 0.0690, 0.0564, 0.1510, 0.1617, 0.3058, 0.1542, 0.0186,\n",
      "        0.0048, 0.0019, 0.0031, 0.0120, 0.0475, 0.1140, 0.0839],\n",
      "       grad_fn=<SigmoidBackward0>)\n"
     ]
    },
    {
     "name": "stderr",
     "output_type": "stream",
     "text": [
      "Epoch 1:   4%|█▍                                  | 12/313 [02:15<45:34,  9.09s/it]"
     ]
    },
    {
     "name": "stdout",
     "output_type": "stream",
     "text": [
      "torch.Size([16, 23, 8, 58])\n",
      "torch.Size([16, 1, 23, 8, 58])\n",
      "torch.Size([16, 20416])\n",
      "torch.Size([16, 128])\n",
      "RNN torch.Size([16, 256])\n",
      "After FC2 torch.Size([16]) tensor([0.7858, 0.7246, 0.3497, 0.0565, 0.0115, 0.0059, 0.0125, 0.0039, 0.0042,\n",
      "        0.0019, 0.0041, 0.0095, 0.1256, 0.5957, 0.7759, 0.6330],\n",
      "       grad_fn=<SigmoidBackward0>)\n"
     ]
    },
    {
     "name": "stderr",
     "output_type": "stream",
     "text": [
      "Epoch 1:   4%|█▍                                  | 13/313 [02:20<40:05,  8.02s/it]"
     ]
    },
    {
     "name": "stdout",
     "output_type": "stream",
     "text": [
      "torch.Size([16, 23, 8, 58])\n",
      "torch.Size([16, 1, 23, 8, 58])\n",
      "torch.Size([16, 20416])\n",
      "torch.Size([16, 128])\n",
      "RNN torch.Size([16, 256])\n",
      "After FC2 torch.Size([16]) tensor([0.1783, 0.3645, 0.4844, 0.1752, 0.3575, 0.3722, 0.0775, 0.0359, 0.1098,\n",
      "        0.1541, 0.0284, 0.0192, 0.0133, 0.0035, 0.0053, 0.0136],\n",
      "       grad_fn=<SigmoidBackward0>)\n"
     ]
    },
    {
     "name": "stderr",
     "output_type": "stream",
     "text": [
      "Epoch 1:   4%|█▌                                  | 14/313 [02:26<36:45,  7.38s/it]"
     ]
    },
    {
     "name": "stdout",
     "output_type": "stream",
     "text": [
      "torch.Size([16, 23, 8, 58])\n",
      "torch.Size([16, 1, 23, 8, 58])\n",
      "torch.Size([16, 20416])\n",
      "torch.Size([16, 128])\n",
      "RNN torch.Size([16, 256])\n",
      "After FC2 torch.Size([16]) tensor([0.0638, 0.0190, 0.0177, 0.0853, 0.0878, 0.0372, 0.1326, 0.0846, 0.3043,\n",
      "        0.3388, 0.0756, 0.0786, 0.3056, 0.1640, 0.4305, 0.3371],\n",
      "       grad_fn=<SigmoidBackward0>)\n"
     ]
    },
    {
     "name": "stderr",
     "output_type": "stream",
     "text": [
      "Epoch 1:   5%|█▋                                  | 15/313 [02:33<35:27,  7.14s/it]"
     ]
    },
    {
     "name": "stdout",
     "output_type": "stream",
     "text": [
      "torch.Size([16, 23, 8, 58])\n",
      "torch.Size([16, 1, 23, 8, 58])\n",
      "torch.Size([16, 20416])\n",
      "torch.Size([16, 128])\n",
      "RNN torch.Size([16, 256])\n",
      "After FC2 torch.Size([16]) tensor([0.0209, 0.0050, 0.0036, 0.0083, 0.1900, 0.6748, 0.9508, 0.9849, 0.9484,\n",
      "        0.6193, 0.4505, 0.1100, 0.2375, 0.2242, 0.0311, 0.0157],\n",
      "       grad_fn=<SigmoidBackward0>)\n"
     ]
    },
    {
     "name": "stderr",
     "output_type": "stream",
     "text": [
      "Epoch 1:   5%|█▊                                  | 16/313 [02:39<33:37,  6.79s/it]"
     ]
    },
    {
     "name": "stdout",
     "output_type": "stream",
     "text": [
      "torch.Size([16, 23, 8, 58])\n",
      "torch.Size([16, 1, 23, 8, 58])\n",
      "torch.Size([16, 20416])\n",
      "torch.Size([16, 128])\n",
      "RNN torch.Size([16, 256])\n",
      "After FC2 torch.Size([16]) tensor([0.4400, 0.0446, 0.0397, 0.0597, 0.1407, 0.3208, 0.1257, 0.0825, 0.0983,\n",
      "        0.3673, 0.1159, 0.0625, 0.0195, 0.0391, 0.4624, 0.3068],\n",
      "       grad_fn=<SigmoidBackward0>)\n"
     ]
    },
    {
     "name": "stderr",
     "output_type": "stream",
     "text": [
      "Epoch 1:   5%|█▉                                  | 17/313 [02:46<33:22,  6.76s/it]"
     ]
    },
    {
     "name": "stdout",
     "output_type": "stream",
     "text": [
      "torch.Size([16, 23, 8, 58])\n",
      "torch.Size([16, 1, 23, 8, 58])\n",
      "torch.Size([16, 20416])\n",
      "torch.Size([16, 128])\n",
      "RNN torch.Size([16, 256])\n",
      "After FC2 torch.Size([16]) tensor([0.9685, 0.9616, 0.9119, 0.2179, 0.0716, 0.0306, 0.0379, 0.1021, 0.2256,\n",
      "        0.4721, 0.0986, 0.0290, 0.2410, 0.0627, 0.0521, 0.0724],\n",
      "       grad_fn=<SigmoidBackward0>)\n"
     ]
    },
    {
     "name": "stderr",
     "output_type": "stream",
     "text": [
      "Epoch 1:   6%|██                                  | 18/313 [02:52<33:20,  6.78s/it]"
     ]
    },
    {
     "name": "stdout",
     "output_type": "stream",
     "text": [
      "torch.Size([16, 23, 8, 58])\n",
      "torch.Size([16, 1, 23, 8, 58])\n",
      "torch.Size([16, 20416])\n",
      "torch.Size([16, 128])\n",
      "RNN torch.Size([16, 256])\n",
      "After FC2 torch.Size([16]) tensor([8.5696e-01, 2.8096e-01, 9.9313e-02, 2.7555e-03, 6.9232e-04, 1.4012e-03,\n",
      "        1.0073e-01, 4.5560e-01, 1.2307e-01, 1.6478e-01, 5.3124e-02, 1.5051e-01,\n",
      "        8.9529e-01, 8.7124e-01, 9.7990e-01, 9.5634e-01],\n",
      "       grad_fn=<SigmoidBackward0>)\n"
     ]
    },
    {
     "name": "stderr",
     "output_type": "stream",
     "text": [
      "Epoch 1:   6%|██▏                                 | 19/313 [02:59<33:10,  6.77s/it]"
     ]
    },
    {
     "name": "stdout",
     "output_type": "stream",
     "text": [
      "torch.Size([16, 23, 8, 58])\n",
      "torch.Size([16, 1, 23, 8, 58])\n",
      "torch.Size([16, 20416])\n",
      "torch.Size([16, 128])\n",
      "RNN torch.Size([16, 256])\n",
      "After FC2 torch.Size([16]) tensor([0.0335, 0.0581, 0.1807, 0.8289, 0.5855, 0.9073, 0.6916, 0.9717, 0.9800,\n",
      "        0.7412, 0.8234, 0.2320, 0.0503, 0.0637, 0.0196, 0.0462],\n",
      "       grad_fn=<SigmoidBackward0>)\n"
     ]
    },
    {
     "name": "stderr",
     "output_type": "stream",
     "text": [
      "Epoch 1:   6%|██▎                                 | 20/313 [03:06<33:22,  6.83s/it]"
     ]
    },
    {
     "name": "stdout",
     "output_type": "stream",
     "text": [
      "torch.Size([16, 23, 8, 58])\n",
      "torch.Size([16, 1, 23, 8, 58])\n",
      "torch.Size([16, 20416])\n",
      "torch.Size([16, 128])\n",
      "RNN torch.Size([16, 256])\n",
      "After FC2 torch.Size([16]) tensor([0.1156, 0.7311, 0.7191, 0.0504, 0.1841, 0.0060, 0.0090, 0.1357, 0.3459,\n",
      "        0.1264, 0.0415, 0.1449, 0.8942, 0.9875, 0.9858, 0.9603],\n",
      "       grad_fn=<SigmoidBackward0>)\n"
     ]
    },
    {
     "name": "stderr",
     "output_type": "stream",
     "text": [
      "Epoch 1:   7%|██▍                                 | 21/313 [03:14<34:23,  7.07s/it]"
     ]
    },
    {
     "name": "stdout",
     "output_type": "stream",
     "text": [
      "torch.Size([16, 23, 8, 58])\n",
      "torch.Size([16, 1, 23, 8, 58])\n",
      "torch.Size([16, 20416])\n",
      "torch.Size([16, 128])\n",
      "RNN torch.Size([16, 256])\n",
      "After FC2 torch.Size([16]) tensor([6.9496e-02, 3.9702e-01, 7.7402e-01, 9.6822e-01, 6.9092e-01, 9.7538e-01,\n",
      "        9.7026e-01, 6.0388e-02, 1.3509e-03, 3.6457e-04, 1.6597e-03, 4.0440e-02,\n",
      "        9.7945e-01, 9.9850e-01, 9.9768e-01, 9.7132e-01],\n",
      "       grad_fn=<SigmoidBackward0>)\n"
     ]
    },
    {
     "name": "stderr",
     "output_type": "stream",
     "text": [
      "Epoch 1:   7%|██▌                                 | 22/313 [03:21<34:19,  7.08s/it]"
     ]
    },
    {
     "name": "stdout",
     "output_type": "stream",
     "text": [
      "torch.Size([16, 23, 8, 58])\n",
      "torch.Size([16, 1, 23, 8, 58])\n",
      "torch.Size([16, 20416])\n",
      "torch.Size([16, 128])\n",
      "RNN torch.Size([16, 256])\n",
      "After FC2 torch.Size([16]) tensor([0.0438, 0.6569, 0.2791, 0.0052, 0.0036, 0.0783, 0.2745, 0.0043, 0.0030,\n",
      "        0.0301, 0.7568, 0.0283, 0.0033, 0.0026, 0.0077, 0.6719],\n",
      "       grad_fn=<SigmoidBackward0>)\n"
     ]
    },
    {
     "name": "stderr",
     "output_type": "stream",
     "text": [
      "Epoch 1:   7%|██▋                                 | 23/313 [03:28<34:31,  7.14s/it]"
     ]
    },
    {
     "name": "stdout",
     "output_type": "stream",
     "text": [
      "torch.Size([16, 23, 8, 58])\n",
      "torch.Size([16, 1, 23, 8, 58])\n",
      "torch.Size([16, 20416])\n",
      "torch.Size([16, 128])\n",
      "RNN torch.Size([16, 256])\n",
      "After FC2 torch.Size([16]) tensor([2.6346e-02, 4.4424e-01, 6.4140e-02, 3.1006e-01, 9.8084e-01, 9.5288e-01,\n",
      "        1.7057e-01, 8.1696e-01, 9.3508e-01, 2.0227e-01, 1.0051e-01, 1.5291e-03,\n",
      "        3.2790e-04, 3.9896e-03, 9.0614e-01, 9.6602e-01],\n",
      "       grad_fn=<SigmoidBackward0>)\n"
     ]
    },
    {
     "name": "stderr",
     "output_type": "stream",
     "text": [
      "Epoch 1:   8%|██▊                                 | 24/313 [03:34<33:15,  6.91s/it]"
     ]
    },
    {
     "name": "stdout",
     "output_type": "stream",
     "text": [
      "torch.Size([16, 23, 8, 58])\n",
      "torch.Size([16, 1, 23, 8, 58])\n",
      "torch.Size([16, 20416])\n",
      "torch.Size([16, 128])\n",
      "RNN torch.Size([16, 256])\n",
      "After FC2 torch.Size([16]) tensor([1.0549e-01, 8.4046e-01, 6.7837e-01, 9.9721e-01, 9.9803e-01, 9.8339e-01,\n",
      "        6.9755e-02, 4.7134e-04, 3.4377e-04, 1.0167e-02, 1.6223e-01, 5.2934e-03,\n",
      "        2.5237e-03, 4.6320e-02, 9.1268e-01, 2.0409e-01],\n",
      "       grad_fn=<SigmoidBackward0>)\n"
     ]
    },
    {
     "name": "stderr",
     "output_type": "stream",
     "text": [
      "Epoch 1:   8%|██▉                                 | 25/313 [03:41<33:20,  6.94s/it]"
     ]
    },
    {
     "name": "stdout",
     "output_type": "stream",
     "text": [
      "torch.Size([16, 23, 8, 58])\n",
      "torch.Size([16, 1, 23, 8, 58])\n",
      "torch.Size([16, 20416])\n",
      "torch.Size([16, 128])\n",
      "RNN torch.Size([16, 256])\n",
      "After FC2 torch.Size([16]) tensor([7.3746e-01, 3.3849e-03, 1.5245e-03, 6.3428e-01, 1.7168e-01, 9.7827e-01,\n",
      "        9.9484e-01, 9.9871e-01, 9.9110e-01, 2.1799e-01, 4.7566e-01, 7.7836e-03,\n",
      "        3.6850e-01, 3.2393e-01, 1.1071e-03, 8.3002e-04],\n",
      "       grad_fn=<SigmoidBackward0>)\n"
     ]
    },
    {
     "name": "stderr",
     "output_type": "stream",
     "text": [
      "Epoch 1:   8%|██▉                                 | 26/313 [03:48<32:07,  6.72s/it]"
     ]
    },
    {
     "name": "stdout",
     "output_type": "stream",
     "text": [
      "torch.Size([16, 23, 8, 58])\n",
      "torch.Size([16, 1, 23, 8, 58])\n",
      "torch.Size([16, 20416])\n",
      "torch.Size([16, 128])\n",
      "RNN torch.Size([16, 256])\n",
      "After FC2 torch.Size([16]) tensor([9.9624e-01, 9.0976e-01, 9.7386e-01, 3.4860e-02, 5.6372e-04, 2.8848e-04,\n",
      "        4.8322e-03, 9.1390e-01, 9.5865e-01, 5.2192e-03, 1.0104e-03, 3.5152e-04,\n",
      "        3.0479e-03, 9.7135e-01, 9.9703e-01, 7.4481e-01],\n",
      "       grad_fn=<SigmoidBackward0>)\n"
     ]
    },
    {
     "name": "stderr",
     "output_type": "stream",
     "text": [
      "Epoch 1:   9%|███                                 | 27/313 [03:54<32:02,  6.72s/it]"
     ]
    },
    {
     "name": "stdout",
     "output_type": "stream",
     "text": [
      "torch.Size([16, 23, 8, 58])\n",
      "torch.Size([16, 1, 23, 8, 58])\n",
      "torch.Size([16, 20416])\n",
      "torch.Size([16, 128])\n",
      "RNN torch.Size([16, 256])\n",
      "After FC2 torch.Size([16]) tensor([2.2791e-02, 9.6532e-01, 9.7916e-01, 9.8151e-01, 9.9770e-01, 9.8658e-01,\n",
      "        3.2502e-02, 3.4322e-01, 1.8177e-02, 9.9110e-01, 9.7599e-01, 3.4564e-03,\n",
      "        7.6278e-05, 2.0286e-04, 5.4328e-02, 9.7389e-01],\n",
      "       grad_fn=<SigmoidBackward0>)\n"
     ]
    },
    {
     "name": "stderr",
     "output_type": "stream",
     "text": [
      "Epoch 1:   9%|███▏                                | 28/313 [04:01<32:07,  6.76s/it]"
     ]
    },
    {
     "name": "stdout",
     "output_type": "stream",
     "text": [
      "torch.Size([16, 23, 8, 58])\n",
      "torch.Size([16, 1, 23, 8, 58])\n",
      "torch.Size([16, 20416])\n",
      "torch.Size([16, 128])\n",
      "RNN torch.Size([16, 256])\n",
      "After FC2 torch.Size([16]) tensor([5.5970e-04, 6.4528e-05, 5.1277e-05, 5.9035e-05, 1.6349e-03, 7.9955e-01,\n",
      "        9.9205e-01, 9.9899e-01, 9.8404e-01, 1.6982e-01, 6.8959e-04, 8.1795e-01,\n",
      "        9.9609e-01, 9.9896e-01, 9.9938e-01, 9.8040e-01],\n",
      "       grad_fn=<SigmoidBackward0>)\n"
     ]
    },
    {
     "name": "stderr",
     "output_type": "stream",
     "text": [
      "Epoch 1:   9%|███▎                                | 29/313 [04:08<32:04,  6.78s/it]"
     ]
    },
    {
     "name": "stdout",
     "output_type": "stream",
     "text": [
      "torch.Size([16, 23, 8, 58])\n",
      "torch.Size([16, 1, 23, 8, 58])\n",
      "torch.Size([16, 20416])\n",
      "torch.Size([16, 128])\n",
      "RNN torch.Size([16, 256])\n",
      "After FC2 torch.Size([16]) tensor([9.9714e-01, 4.2852e-01, 9.7686e-01, 2.9069e-01, 9.9719e-01, 9.9930e-01,\n",
      "        4.6381e-02, 1.8590e-03, 8.8762e-04, 4.4945e-03, 2.7257e-01, 3.1894e-03,\n",
      "        9.8866e-04, 1.0612e-03, 2.1437e-04, 1.1806e-03],\n",
      "       grad_fn=<SigmoidBackward0>)\n"
     ]
    },
    {
     "name": "stderr",
     "output_type": "stream",
     "text": [
      "Epoch 1:  10%|███▍                                | 30/313 [04:15<32:30,  6.89s/it]"
     ]
    },
    {
     "name": "stdout",
     "output_type": "stream",
     "text": [
      "torch.Size([16, 23, 8, 58])\n",
      "torch.Size([16, 1, 23, 8, 58])\n",
      "torch.Size([16, 20416])\n",
      "torch.Size([16, 128])\n",
      "RNN torch.Size([16, 256])\n",
      "After FC2 torch.Size([16]) tensor([9.8759e-01, 9.9965e-01, 9.8228e-01, 1.7157e-04, 9.1076e-04, 2.4700e-03,\n",
      "        9.9606e-01, 9.8397e-01, 2.5181e-03, 9.0955e-01, 1.7381e-04, 9.9029e-03,\n",
      "        4.0017e-04, 5.5541e-01, 9.8641e-01, 9.8818e-01],\n",
      "       grad_fn=<SigmoidBackward0>)\n"
     ]
    },
    {
     "name": "stderr",
     "output_type": "stream",
     "text": [
      "Epoch 1:  10%|███▌                                | 31/313 [04:22<32:00,  6.81s/it]"
     ]
    },
    {
     "name": "stdout",
     "output_type": "stream",
     "text": [
      "torch.Size([16, 23, 8, 58])\n",
      "torch.Size([16, 1, 23, 8, 58])\n",
      "torch.Size([16, 20416])\n",
      "torch.Size([16, 128])\n",
      "RNN torch.Size([16, 256])\n",
      "After FC2 torch.Size([16]) tensor([1.7656e-04, 9.6910e-05, 1.1939e-01, 1.0123e-04, 3.2331e-03, 1.2567e-02,\n",
      "        9.9461e-01, 9.8605e-01, 3.6813e-01, 9.0866e-03, 9.8492e-01, 9.9786e-01,\n",
      "        9.9966e-01, 9.9655e-01, 3.9367e-03, 3.1054e-01],\n",
      "       grad_fn=<SigmoidBackward0>)\n"
     ]
    },
    {
     "name": "stderr",
     "output_type": "stream",
     "text": [
      "Epoch 1:  10%|███▋                                | 32/313 [04:28<30:55,  6.60s/it]"
     ]
    },
    {
     "name": "stdout",
     "output_type": "stream",
     "text": [
      "torch.Size([16, 23, 8, 58])\n",
      "torch.Size([16, 1, 23, 8, 58])\n",
      "torch.Size([16, 20416])\n",
      "torch.Size([16, 128])\n",
      "RNN torch.Size([16, 256])\n",
      "After FC2 torch.Size([16]) tensor([8.9281e-04, 3.1528e-04, 6.9786e-01, 8.5669e-05, 4.5382e-03, 9.9623e-01,\n",
      "        9.9973e-01, 9.9977e-01, 9.9980e-01, 9.9715e-01, 2.8950e-03, 8.9057e-05,\n",
      "        6.4726e-04, 9.9436e-01, 9.8321e-01, 1.2567e-02],\n",
      "       grad_fn=<SigmoidBackward0>)\n"
     ]
    },
    {
     "name": "stderr",
     "output_type": "stream",
     "text": [
      "Epoch 1:  11%|███▊                                | 33/313 [04:36<32:08,  6.89s/it]"
     ]
    },
    {
     "name": "stdout",
     "output_type": "stream",
     "text": [
      "torch.Size([16, 23, 8, 58])\n",
      "torch.Size([16, 1, 23, 8, 58])\n",
      "torch.Size([16, 20416])\n",
      "torch.Size([16, 128])\n",
      "RNN torch.Size([16, 256])\n",
      "After FC2 torch.Size([16]) tensor([8.9509e-01, 5.6492e-04, 9.8509e-01, 9.4509e-01, 4.7563e-04, 9.9516e-01,\n",
      "        1.2265e-01, 9.9192e-01, 8.3317e-01, 2.6170e-03, 9.9960e-01, 9.8211e-01,\n",
      "        2.6531e-04, 3.7875e-04, 9.9459e-01, 9.8204e-01],\n",
      "       grad_fn=<SigmoidBackward0>)\n"
     ]
    },
    {
     "name": "stderr",
     "output_type": "stream",
     "text": [
      "Epoch 1:  11%|███▉                                | 34/313 [04:43<32:10,  6.92s/it]"
     ]
    },
    {
     "name": "stdout",
     "output_type": "stream",
     "text": [
      "torch.Size([16, 23, 8, 58])\n",
      "torch.Size([16, 1, 23, 8, 58])\n",
      "torch.Size([16, 20416])\n",
      "torch.Size([16, 128])\n",
      "RNN torch.Size([16, 256])\n",
      "After FC2 torch.Size([16]) tensor([9.9361e-01, 9.9546e-01, 4.7069e-04, 9.9546e-01, 2.3942e-04, 9.7393e-01,\n",
      "        9.9927e-01, 9.8921e-04, 1.2784e-04, 2.2731e-04, 1.7018e-03, 9.9645e-01,\n",
      "        9.8925e-01, 3.2819e-03, 9.9354e-01, 3.4800e-04],\n",
      "       grad_fn=<SigmoidBackward0>)\n"
     ]
    },
    {
     "name": "stderr",
     "output_type": "stream",
     "text": [
      "Epoch 1:  11%|████                                | 35/313 [04:49<32:07,  6.93s/it]"
     ]
    },
    {
     "name": "stdout",
     "output_type": "stream",
     "text": [
      "torch.Size([16, 23, 8, 58])\n",
      "torch.Size([16, 1, 23, 8, 58])\n",
      "torch.Size([16, 20416])\n",
      "torch.Size([16, 128])\n",
      "RNN torch.Size([16, 256])\n",
      "After FC2 torch.Size([16]) tensor([9.9838e-01, 4.0708e-03, 9.9917e-01, 1.4881e-04, 6.8472e-04, 9.9995e-01,\n",
      "        7.6328e-03, 1.9045e-03, 9.9458e-01, 6.0432e-01, 9.4148e-04, 1.5131e-03,\n",
      "        4.4918e-02, 3.4215e-03, 9.9890e-01, 9.9907e-01],\n",
      "       grad_fn=<SigmoidBackward0>)\n"
     ]
    },
    {
     "name": "stderr",
     "output_type": "stream",
     "text": [
      "Epoch 1:  12%|████▏                               | 36/313 [04:57<32:36,  7.06s/it]"
     ]
    },
    {
     "name": "stdout",
     "output_type": "stream",
     "text": [
      "torch.Size([16, 23, 8, 58])\n",
      "torch.Size([16, 1, 23, 8, 58])\n",
      "torch.Size([16, 20416])\n",
      "torch.Size([16, 128])\n",
      "RNN torch.Size([16, 256])\n",
      "After FC2 torch.Size([16]) tensor([1.2026e-01, 4.6328e-03, 9.9937e-01, 7.7718e-04, 5.5386e-02, 9.9993e-01,\n",
      "        1.7855e-02, 5.9571e-01, 1.4609e-03, 4.2028e-03, 1.3174e-03, 7.9723e-04,\n",
      "        7.5388e-03, 2.3026e-02, 9.9709e-01, 9.9959e-01],\n",
      "       grad_fn=<SigmoidBackward0>)\n"
     ]
    },
    {
     "name": "stderr",
     "output_type": "stream",
     "text": [
      "Epoch 1:  12%|████▎                               | 37/313 [05:04<32:34,  7.08s/it]"
     ]
    },
    {
     "name": "stdout",
     "output_type": "stream",
     "text": [
      "torch.Size([16, 23, 8, 58])\n",
      "torch.Size([16, 1, 23, 8, 58])\n",
      "torch.Size([16, 20416])\n",
      "torch.Size([16, 128])\n",
      "RNN torch.Size([16, 256])\n",
      "After FC2 torch.Size([16]) tensor([9.9731e-01, 1.5428e-04, 9.9931e-01, 2.9956e-03, 7.4466e-05, 9.9994e-01,\n",
      "        4.2640e-05, 9.9979e-01, 9.9979e-01, 9.4766e-05, 9.9904e-01, 1.9600e-04,\n",
      "        9.5682e-01, 9.9329e-01, 3.6027e-04, 9.9855e-01],\n",
      "       grad_fn=<SigmoidBackward0>)\n"
     ]
    },
    {
     "name": "stderr",
     "output_type": "stream",
     "text": [
      "Epoch 1:  12%|████▎                               | 38/313 [05:11<31:49,  6.94s/it]"
     ]
    },
    {
     "name": "stdout",
     "output_type": "stream",
     "text": [
      "torch.Size([16, 23, 8, 58])\n",
      "torch.Size([16, 1, 23, 8, 58])\n",
      "torch.Size([16, 20416])\n",
      "torch.Size([16, 128])\n",
      "RNN torch.Size([16, 256])\n",
      "After FC2 torch.Size([16]) tensor([9.9975e-01, 2.6228e-03, 3.6015e-03, 9.9983e-01, 9.9979e-01, 9.9877e-01,\n",
      "        3.8260e-03, 4.7443e-04, 9.9990e-01, 2.4074e-03, 9.9868e-01, 1.1503e-04,\n",
      "        1.1518e-03, 5.8987e-05, 1.5619e-04, 1.3521e-02],\n",
      "       grad_fn=<SigmoidBackward0>)\n"
     ]
    },
    {
     "name": "stderr",
     "output_type": "stream",
     "text": [
      "Epoch 1:  12%|████▍                               | 39/313 [05:17<31:22,  6.87s/it]"
     ]
    },
    {
     "name": "stdout",
     "output_type": "stream",
     "text": [
      "torch.Size([16, 23, 8, 58])\n",
      "torch.Size([16, 1, 23, 8, 58])\n",
      "torch.Size([16, 20416])\n",
      "torch.Size([16, 128])\n",
      "RNN torch.Size([16, 256])\n",
      "After FC2 torch.Size([16]) tensor([6.2750e-04, 2.4397e-04, 9.9943e-01, 1.2650e-04, 9.9947e-01, 2.2947e-04,\n",
      "        9.9990e-01, 9.9830e-01, 1.3033e-05, 9.9887e-01, 8.6299e-01, 4.1809e-05,\n",
      "        2.5736e-03, 9.9436e-01, 9.7377e-01, 9.9751e-01],\n",
      "       grad_fn=<SigmoidBackward0>)\n"
     ]
    },
    {
     "name": "stderr",
     "output_type": "stream",
     "text": [
      "Epoch 1:  13%|████▌                               | 40/313 [05:25<31:45,  6.98s/it]"
     ]
    },
    {
     "name": "stdout",
     "output_type": "stream",
     "text": [
      "torch.Size([16, 23, 8, 58])\n",
      "torch.Size([16, 1, 23, 8, 58])\n",
      "torch.Size([16, 20416])\n",
      "torch.Size([16, 128])\n",
      "RNN torch.Size([16, 256])\n",
      "After FC2 torch.Size([16]) tensor([5.5761e-04, 2.2585e-04, 8.6928e-02, 2.6891e-03, 2.4766e-03, 6.4092e-03,\n",
      "        9.9992e-01, 1.6860e-04, 9.9987e-01, 9.9964e-01, 8.9795e-05, 1.1082e-03,\n",
      "        9.9996e-01, 9.9883e-01, 9.9552e-05, 2.4469e-02],\n",
      "       grad_fn=<SigmoidBackward0>)\n"
     ]
    },
    {
     "name": "stderr",
     "output_type": "stream",
     "text": [
      "Epoch 1:  13%|████▋                               | 41/313 [05:32<31:52,  7.03s/it]"
     ]
    },
    {
     "name": "stdout",
     "output_type": "stream",
     "text": [
      "torch.Size([16, 23, 8, 58])\n",
      "torch.Size([16, 1, 23, 8, 58])\n",
      "torch.Size([16, 20416])\n",
      "torch.Size([16, 128])\n",
      "RNN torch.Size([16, 256])\n",
      "After FC2 torch.Size([16]) tensor([1.9965e-03, 9.9992e-01, 2.0433e-02, 9.9815e-01, 6.8332e-06, 9.9986e-01,\n",
      "        9.9510e-01, 2.0649e-02, 2.5992e-04, 2.6730e-04, 7.3549e-04, 9.9985e-01,\n",
      "        9.9732e-01, 5.5839e-05, 1.2021e-05, 5.1912e-04],\n",
      "       grad_fn=<SigmoidBackward0>)\n"
     ]
    },
    {
     "name": "stderr",
     "output_type": "stream",
     "text": [
      "Epoch 1:  13%|████▊                               | 42/313 [05:39<32:47,  7.26s/it]"
     ]
    },
    {
     "name": "stdout",
     "output_type": "stream",
     "text": [
      "torch.Size([16, 23, 8, 58])\n",
      "torch.Size([16, 1, 23, 8, 58])\n",
      "torch.Size([16, 20416])\n",
      "torch.Size([16, 128])\n",
      "RNN torch.Size([16, 256])\n",
      "After FC2 torch.Size([16]) tensor([9.9769e-01, 9.9990e-01, 9.9909e-01, 9.6963e-01, 1.6689e-05, 9.9994e-01,\n",
      "        2.0189e-05, 9.8841e-01, 5.9729e-06, 9.9990e-01, 7.7788e-06, 3.2644e-06,\n",
      "        4.3394e-05, 7.3748e-05, 9.9553e-01, 9.9871e-01],\n",
      "       grad_fn=<SigmoidBackward0>)\n"
     ]
    },
    {
     "name": "stderr",
     "output_type": "stream",
     "text": [
      "Epoch 1:  14%|████▉                               | 43/313 [05:46<31:59,  7.11s/it]"
     ]
    },
    {
     "name": "stdout",
     "output_type": "stream",
     "text": [
      "torch.Size([16, 23, 8, 58])\n",
      "torch.Size([16, 1, 23, 8, 58])\n",
      "torch.Size([16, 20416])\n",
      "torch.Size([16, 128])\n",
      "RNN torch.Size([16, 256])\n",
      "After FC2 torch.Size([16]) tensor([3.9751e-05, 9.9733e-01, 9.8778e-01, 9.9836e-01, 3.2236e-06, 2.2005e-02,\n",
      "        8.0715e-06, 8.5616e-05, 9.8661e-01, 9.5098e-01, 9.9895e-01, 9.9986e-01,\n",
      "        9.6019e-01, 2.0721e-04, 5.8398e-04, 9.9987e-01],\n",
      "       grad_fn=<SigmoidBackward0>)\n"
     ]
    },
    {
     "name": "stderr",
     "output_type": "stream",
     "text": [
      "Epoch 1:  14%|█████                               | 44/313 [05:53<31:57,  7.13s/it]"
     ]
    },
    {
     "name": "stdout",
     "output_type": "stream",
     "text": [
      "torch.Size([16, 23, 8, 58])\n",
      "torch.Size([16, 1, 23, 8, 58])\n",
      "torch.Size([16, 20416])\n",
      "torch.Size([16, 128])\n",
      "RNN torch.Size([16, 256])\n",
      "After FC2 torch.Size([16]) tensor([5.4406e-05, 3.3784e-05, 1.1650e-05, 1.1855e-04, 6.8704e-05, 9.9996e-01,\n",
      "        1.7139e-05, 5.1960e-05, 5.4848e-05, 4.9125e-05, 9.9104e-01, 9.9984e-01,\n",
      "        9.9223e-01, 8.7751e-05, 9.9987e-01, 9.9900e-01],\n",
      "       grad_fn=<SigmoidBackward0>)\n"
     ]
    },
    {
     "name": "stderr",
     "output_type": "stream",
     "text": [
      "                                                                                   \r"
     ]
    },
    {
     "ename": "KeyboardInterrupt",
     "evalue": "",
     "output_type": "error",
     "traceback": [
      "\u001b[0;31m---------------------------------------------------------------------------\u001b[0m",
      "\u001b[0;31mKeyboardInterrupt\u001b[0m                         Traceback (most recent call last)",
      "Cell \u001b[0;32mIn[15], line 11\u001b[0m\n\u001b[1;32m      9\u001b[0m num_epochs \u001b[38;5;241m=\u001b[39m \u001b[38;5;241m2\u001b[39m\n\u001b[1;32m     10\u001b[0m \u001b[38;5;28;01mfor\u001b[39;00m epoch \u001b[38;5;129;01min\u001b[39;00m \u001b[38;5;28mrange\u001b[39m(\u001b[38;5;241m1\u001b[39m, num_epochs \u001b[38;5;241m+\u001b[39m \u001b[38;5;241m1\u001b[39m):\n\u001b[0;32m---> 11\u001b[0m     train_loss, train_accuracy \u001b[38;5;241m=\u001b[39m \u001b[43mtrain\u001b[49m\u001b[43m(\u001b[49m\u001b[43mmodel\u001b[49m\u001b[43m,\u001b[49m\u001b[43m \u001b[49m\u001b[43mdevice\u001b[49m\u001b[43m,\u001b[49m\u001b[43m \u001b[49m\u001b[43mtrain_loader\u001b[49m\u001b[43m,\u001b[49m\u001b[43m \u001b[49m\u001b[43mcriterion\u001b[49m\u001b[43m,\u001b[49m\u001b[43m \u001b[49m\u001b[43moptimizer\u001b[49m\u001b[43m,\u001b[49m\u001b[43m \u001b[49m\u001b[43mepoch\u001b[49m\u001b[43m)\u001b[49m\n\u001b[1;32m     12\u001b[0m     \u001b[38;5;28mprint\u001b[39m(\u001b[38;5;124mf\u001b[39m\u001b[38;5;124m\"\u001b[39m\u001b[38;5;124mEpoch \u001b[39m\u001b[38;5;132;01m{\u001b[39;00mepoch\u001b[38;5;132;01m}\u001b[39;00m\u001b[38;5;124m, Train Loss: \u001b[39m\u001b[38;5;132;01m{\u001b[39;00mtrain_loss\u001b[38;5;132;01m:\u001b[39;00m\u001b[38;5;124m.4f\u001b[39m\u001b[38;5;132;01m}\u001b[39;00m\u001b[38;5;124m, Train Accuracy: \u001b[39m\u001b[38;5;132;01m{\u001b[39;00mtrain_accuracy\u001b[38;5;132;01m:\u001b[39;00m\u001b[38;5;124m.4f\u001b[39m\u001b[38;5;132;01m}\u001b[39;00m\u001b[38;5;124m\"\u001b[39m)\n\u001b[1;32m     14\u001b[0m     \u001b[38;5;66;03m# Save the model after each epoch\u001b[39;00m\n",
      "Cell \u001b[0;32mIn[7], line 10\u001b[0m, in \u001b[0;36mtrain\u001b[0;34m(model, device, train_loader, criterion, optimizer, epoch)\u001b[0m\n\u001b[1;32m      8\u001b[0m output \u001b[38;5;241m=\u001b[39m model(data)\n\u001b[1;32m      9\u001b[0m loss \u001b[38;5;241m=\u001b[39m criterion(output, target\u001b[38;5;241m.\u001b[39mfloat())\n\u001b[0;32m---> 10\u001b[0m \u001b[43mloss\u001b[49m\u001b[38;5;241;43m.\u001b[39;49m\u001b[43mbackward\u001b[49m\u001b[43m(\u001b[49m\u001b[43m)\u001b[49m\n\u001b[1;32m     11\u001b[0m optimizer\u001b[38;5;241m.\u001b[39mstep()\n\u001b[1;32m     12\u001b[0m total_loss \u001b[38;5;241m+\u001b[39m\u001b[38;5;241m=\u001b[39m loss\u001b[38;5;241m.\u001b[39mitem()\n",
      "File \u001b[0;32m~/cslab/lib/python3.8/site-packages/torch/_tensor.py:488\u001b[0m, in \u001b[0;36mTensor.backward\u001b[0;34m(self, gradient, retain_graph, create_graph, inputs)\u001b[0m\n\u001b[1;32m    478\u001b[0m \u001b[38;5;28;01mif\u001b[39;00m has_torch_function_unary(\u001b[38;5;28mself\u001b[39m):\n\u001b[1;32m    479\u001b[0m     \u001b[38;5;28;01mreturn\u001b[39;00m handle_torch_function(\n\u001b[1;32m    480\u001b[0m         Tensor\u001b[38;5;241m.\u001b[39mbackward,\n\u001b[1;32m    481\u001b[0m         (\u001b[38;5;28mself\u001b[39m,),\n\u001b[0;32m   (...)\u001b[0m\n\u001b[1;32m    486\u001b[0m         inputs\u001b[38;5;241m=\u001b[39minputs,\n\u001b[1;32m    487\u001b[0m     )\n\u001b[0;32m--> 488\u001b[0m \u001b[43mtorch\u001b[49m\u001b[38;5;241;43m.\u001b[39;49m\u001b[43mautograd\u001b[49m\u001b[38;5;241;43m.\u001b[39;49m\u001b[43mbackward\u001b[49m\u001b[43m(\u001b[49m\n\u001b[1;32m    489\u001b[0m \u001b[43m    \u001b[49m\u001b[38;5;28;43mself\u001b[39;49m\u001b[43m,\u001b[49m\u001b[43m \u001b[49m\u001b[43mgradient\u001b[49m\u001b[43m,\u001b[49m\u001b[43m \u001b[49m\u001b[43mretain_graph\u001b[49m\u001b[43m,\u001b[49m\u001b[43m \u001b[49m\u001b[43mcreate_graph\u001b[49m\u001b[43m,\u001b[49m\u001b[43m \u001b[49m\u001b[43minputs\u001b[49m\u001b[38;5;241;43m=\u001b[39;49m\u001b[43minputs\u001b[49m\n\u001b[1;32m    490\u001b[0m \u001b[43m\u001b[49m\u001b[43m)\u001b[49m\n",
      "File \u001b[0;32m~/cslab/lib/python3.8/site-packages/torch/autograd/__init__.py:197\u001b[0m, in \u001b[0;36mbackward\u001b[0;34m(tensors, grad_tensors, retain_graph, create_graph, grad_variables, inputs)\u001b[0m\n\u001b[1;32m    192\u001b[0m     retain_graph \u001b[38;5;241m=\u001b[39m create_graph\n\u001b[1;32m    194\u001b[0m \u001b[38;5;66;03m# The reason we repeat same the comment below is that\u001b[39;00m\n\u001b[1;32m    195\u001b[0m \u001b[38;5;66;03m# some Python versions print out the first line of a multi-line function\u001b[39;00m\n\u001b[1;32m    196\u001b[0m \u001b[38;5;66;03m# calls in the traceback and some print out the last line\u001b[39;00m\n\u001b[0;32m--> 197\u001b[0m \u001b[43mVariable\u001b[49m\u001b[38;5;241;43m.\u001b[39;49m\u001b[43m_execution_engine\u001b[49m\u001b[38;5;241;43m.\u001b[39;49m\u001b[43mrun_backward\u001b[49m\u001b[43m(\u001b[49m\u001b[43m  \u001b[49m\u001b[38;5;66;43;03m# Calls into the C++ engine to run the backward pass\u001b[39;49;00m\n\u001b[1;32m    198\u001b[0m \u001b[43m    \u001b[49m\u001b[43mtensors\u001b[49m\u001b[43m,\u001b[49m\u001b[43m \u001b[49m\u001b[43mgrad_tensors_\u001b[49m\u001b[43m,\u001b[49m\u001b[43m \u001b[49m\u001b[43mretain_graph\u001b[49m\u001b[43m,\u001b[49m\u001b[43m \u001b[49m\u001b[43mcreate_graph\u001b[49m\u001b[43m,\u001b[49m\u001b[43m \u001b[49m\u001b[43minputs\u001b[49m\u001b[43m,\u001b[49m\n\u001b[1;32m    199\u001b[0m \u001b[43m    \u001b[49m\u001b[43mallow_unreachable\u001b[49m\u001b[38;5;241;43m=\u001b[39;49m\u001b[38;5;28;43;01mTrue\u001b[39;49;00m\u001b[43m,\u001b[49m\u001b[43m \u001b[49m\u001b[43maccumulate_grad\u001b[49m\u001b[38;5;241;43m=\u001b[39;49m\u001b[38;5;28;43;01mTrue\u001b[39;49;00m\u001b[43m)\u001b[49m\n",
      "\u001b[0;31mKeyboardInterrupt\u001b[0m: "
     ]
    }
   ],
   "source": [
    "model = CRNN_Model(num_class=2, msr_size=(23, 8), rnn_hidden_size=128, dropout=0.7, tem_fac=[1, 2, 1])\n",
    "criterion = nn.BCEWithLogitsLoss()\n",
    "optimizer = optim.Adam(model.parameters(), lr=0.001)\n",
    "device = torch.device(\"cuda\" if torch.cuda.is_available() else \"cpu\")\n",
    "model.double()\n",
    "model.to(device)\n",
    "\n",
    "# Train the model for a few epochs\n",
    "num_epochs = 2\n",
    "for epoch in range(1, num_epochs + 1):\n",
    "    train_loss, train_accuracy = train(model, device, train_loader, criterion, optimizer, epoch)\n",
    "    print(f\"Epoch {epoch}, Train Loss: {train_loss:.4f}, Train Accuracy: {train_accuracy:.4f}\")\n",
    "\n",
    "    # Save the model after each epoch\n",
    "    torch.save(model.state_dict(), f\"crnn_model_epoch_{epoch}.pt\")\n",
    "\n",
    "    # Calculate EER using the ROC curve\n",
    "    all_targets = []\n",
    "    all_scores = []\n",
    "    model.eval()\n",
    "    with torch.no_grad():\n",
    "        for data, target in tqdm(train_loader, desc=\"Calculating EER\", leave=False):\n",
    "            data, target = data.to(device), target.to(device)\n",
    "            output = model(data).cpu().numpy()\n",
    "            all_scores.extend(output)\n",
    "            all_targets.extend(target.cpu().numpy())\n",
    "\n",
    "    fpr, fnr, thresholds = roc_curve(all_targets, all_scores, pos_label=1)\n",
    "    eer_threshold = thresholds[np.nanargmin(np.abs(fnr - fpr))]\n",
    "    eer = fpr[np.nanargmin(np.abs(fnr - fpr))]\n",
    "    print(f\"Epoch {epoch}, Equal Error Rate (EER): {eer:.4f}\")"
   ]
  },
  {
   "cell_type": "code",
   "execution_count": null,
   "id": "82fed1e5-8c32-4bfb-ac66-d407c0a59125",
   "metadata": {},
   "outputs": [],
   "source": []
  },
  {
   "cell_type": "code",
   "execution_count": null,
   "id": "a183f499-a023-446a-92ab-b2310eef9436",
   "metadata": {},
   "outputs": [],
   "source": [
    "# Separate real and fake recordings\n",
    "real_recordings = train_df[train_df['target'] == 0]['filepath'].tolist()\n",
    "fake_recordings = train_df[train_df['target'] == 1]['filepath'].tolist()\n"
   ]
  },
  {
   "cell_type": "code",
   "execution_count": null,
   "id": "451e6de6-8bac-43a7-aff7-77339d18c7be",
   "metadata": {},
   "outputs": [],
   "source": [
    "energy, r = process_file(real_recordings[1])\n",
    "    # Convert NumPy array to PyTorch tensor\n",
    "energy = torch.tensor(energy, dtype=torch.double)\n",
    "print(energy.shape)"
   ]
  },
  {
   "cell_type": "code",
   "execution_count": 16,
   "id": "64c70119-afed-4973-af80-b3c7d43b3e36",
   "metadata": {},
   "outputs": [],
   "source": []
  },
  {
   "cell_type": "code",
   "execution_count": 18,
   "id": "e45ec52e-4e0d-4250-bbfd-989eaf91666d",
   "metadata": {},
   "outputs": [
    {
     "data": {
      "text/plain": [
       "CRNN_Model(\n",
       "  (dp): Dropout(p=0.7, inplace=False)\n",
       "  (relu): ReLU(inplace=True)\n",
       "  (sig): Sigmoid()\n",
       "  (tanh): Tanh()\n",
       "  (cnn1): Sequential(\n",
       "    (0): Conv3d(1, 16, kernel_size=(3, 3, 3), stride=(1, 1, 1), padding=(1, 1, 1))\n",
       "    (1): BatchNorm3d(16, eps=1e-05, momentum=0.1, affine=True, track_running_stats=True)\n",
       "    (2): MaxPool3d(kernel_size=(1, 1, 1), stride=(1, 1, 1), padding=0, dilation=1, ceil_mode=False)\n",
       "    (3): ReLU(inplace=True)\n",
       "  )\n",
       "  (cnn2): Sequential(\n",
       "    (0): Conv3d(16, 16, kernel_size=(3, 3, 3), stride=(1, 1, 1), padding=(1, 1, 1))\n",
       "    (1): BatchNorm3d(16, eps=1e-05, momentum=0.1, affine=True, track_running_stats=True)\n",
       "    (2): MaxPool3d(kernel_size=(2, 1, 1), stride=(2, 1, 1), padding=0, dilation=1, ceil_mode=False)\n",
       "    (3): ReLU(inplace=True)\n",
       "  )\n",
       "  (cnn3): Sequential(\n",
       "    (0): Conv3d(16, 4, kernel_size=(3, 3, 3), stride=(1, 1, 1), padding=(1, 1, 1))\n",
       "    (1): BatchNorm3d(4, eps=1e-05, momentum=0.1, affine=True, track_running_stats=True)\n",
       "    (2): MaxPool3d(kernel_size=(1, 1, 1), stride=(1, 1, 1), padding=0, dilation=1, ceil_mode=False)\n",
       "    (3): ReLU(inplace=True)\n",
       "  )\n",
       "  (downsample): MaxPool3d(kernel_size=(2, 2, 2), stride=(2, 2, 2), padding=0, dilation=1, ceil_mode=False)\n",
       "  (CNNblock): Sequential(\n",
       "    (0): Sequential(\n",
       "      (0): Conv3d(1, 16, kernel_size=(3, 3, 3), stride=(1, 1, 1), padding=(1, 1, 1))\n",
       "      (1): BatchNorm3d(16, eps=1e-05, momentum=0.1, affine=True, track_running_stats=True)\n",
       "      (2): MaxPool3d(kernel_size=(1, 1, 1), stride=(1, 1, 1), padding=0, dilation=1, ceil_mode=False)\n",
       "      (3): ReLU(inplace=True)\n",
       "    )\n",
       "    (1): Sequential(\n",
       "      (0): Conv3d(16, 16, kernel_size=(3, 3, 3), stride=(1, 1, 1), padding=(1, 1, 1))\n",
       "      (1): BatchNorm3d(16, eps=1e-05, momentum=0.1, affine=True, track_running_stats=True)\n",
       "      (2): MaxPool3d(kernel_size=(2, 1, 1), stride=(2, 1, 1), padding=0, dilation=1, ceil_mode=False)\n",
       "      (3): ReLU(inplace=True)\n",
       "    )\n",
       "    (2): Sequential(\n",
       "      (0): Conv3d(16, 4, kernel_size=(3, 3, 3), stride=(1, 1, 1), padding=(1, 1, 1))\n",
       "      (1): BatchNorm3d(4, eps=1e-05, momentum=0.1, affine=True, track_running_stats=True)\n",
       "      (2): MaxPool3d(kernel_size=(1, 1, 1), stride=(1, 1, 1), padding=0, dilation=1, ceil_mode=False)\n",
       "      (3): ReLU(inplace=True)\n",
       "    )\n",
       "  )\n",
       "  (fc1): Sequential(\n",
       "    (0): Linear(in_features=20416, out_features=128, bias=True)\n",
       "    (1): BatchNorm1d(128, eps=1e-05, momentum=0.1, affine=True, track_running_stats=True)\n",
       "    (2): ReLU(inplace=True)\n",
       "    (3): Dropout(p=0.7, inplace=False)\n",
       "  )\n",
       "  (rnn1): GRU(128, 128, num_layers=3, batch_first=True, bidirectional=True)\n",
       "  (layer_norm): LayerNorm((256, 75), eps=1e-05, elementwise_affine=True)\n",
       "  (maxpool): MaxPool1d(kernel_size=75, stride=75, padding=0, dilation=1, ceil_mode=False)\n",
       "  (fc2): Linear(in_features=256, out_features=1, bias=True)\n",
       ")"
      ]
     },
     "execution_count": 18,
     "metadata": {},
     "output_type": "execute_result"
    }
   ],
   "source": [
    "# Create an instance of your model\n",
    "loaded_model = CRNN_Model(num_class=2, msr_size=(23, 8), rnn_hidden_size=128, dropout=0.7, tem_fac=[1, 2, 1])\n",
    "\n",
    "# Specify the path to the saved model file\n",
    "model_path = \"crnn_model_epoch_1.pt\"\n",
    "\n",
    "# Load the model's state dictionary\n",
    "loaded_model.load_state_dict(torch.load(model_path, map_location=torch.device('cpu')))\n",
    "\n",
    "# Set the model to evaluation mode\n",
    "loaded_model.eval()\n",
    "\n",
    "\n",
    "\n",
    "\n"
   ]
  },
  {
   "cell_type": "code",
   "execution_count": 25,
   "id": "0c6187dd-c4d1-4963-8383-9741beb98fbb",
   "metadata": {},
   "outputs": [
    {
     "name": "stderr",
     "output_type": "stream",
     "text": [
      "Calculating EER:   0%|                                     | 0/313 [00:00<?, ?it/s]"
     ]
    },
    {
     "name": "stdout",
     "output_type": "stream",
     "text": [
      "torch.Size([16, 23, 8, 58])\n",
      "torch.Size([16, 1, 23, 8, 58])\n"
     ]
    },
    {
     "name": "stderr",
     "output_type": "stream",
     "text": [
      "                                                                                   \r"
     ]
    },
    {
     "ename": "RuntimeError",
     "evalue": "expected scalar type Double but found Float",
     "output_type": "error",
     "traceback": [
      "\u001b[0;31m---------------------------------------------------------------------------\u001b[0m",
      "\u001b[0;31mRuntimeError\u001b[0m                              Traceback (most recent call last)",
      "Cell \u001b[0;32mIn[25], line 7\u001b[0m\n\u001b[1;32m      5\u001b[0m \u001b[38;5;66;03m# Convert the data to double precision\u001b[39;00m\n\u001b[1;32m      6\u001b[0m data \u001b[38;5;241m=\u001b[39m data\u001b[38;5;241m.\u001b[39mdouble()\n\u001b[0;32m----> 7\u001b[0m output \u001b[38;5;241m=\u001b[39m \u001b[43mloaded_model\u001b[49m\u001b[43m(\u001b[49m\u001b[43mdata\u001b[49m\u001b[43m)\u001b[49m\u001b[38;5;241m.\u001b[39mcpu()\u001b[38;5;241m.\u001b[39mnumpy()\n\u001b[1;32m      8\u001b[0m all_scores\u001b[38;5;241m.\u001b[39mextend(output)\n\u001b[1;32m      9\u001b[0m all_targets\u001b[38;5;241m.\u001b[39mextend(target\u001b[38;5;241m.\u001b[39mcpu()\u001b[38;5;241m.\u001b[39mnumpy())\n",
      "File \u001b[0;32m~/cslab/lib/python3.8/site-packages/torch/nn/modules/module.py:1194\u001b[0m, in \u001b[0;36mModule._call_impl\u001b[0;34m(self, *input, **kwargs)\u001b[0m\n\u001b[1;32m   1190\u001b[0m \u001b[38;5;66;03m# If we don't have any hooks, we want to skip the rest of the logic in\u001b[39;00m\n\u001b[1;32m   1191\u001b[0m \u001b[38;5;66;03m# this function, and just call forward.\u001b[39;00m\n\u001b[1;32m   1192\u001b[0m \u001b[38;5;28;01mif\u001b[39;00m \u001b[38;5;129;01mnot\u001b[39;00m (\u001b[38;5;28mself\u001b[39m\u001b[38;5;241m.\u001b[39m_backward_hooks \u001b[38;5;129;01mor\u001b[39;00m \u001b[38;5;28mself\u001b[39m\u001b[38;5;241m.\u001b[39m_forward_hooks \u001b[38;5;129;01mor\u001b[39;00m \u001b[38;5;28mself\u001b[39m\u001b[38;5;241m.\u001b[39m_forward_pre_hooks \u001b[38;5;129;01mor\u001b[39;00m _global_backward_hooks\n\u001b[1;32m   1193\u001b[0m         \u001b[38;5;129;01mor\u001b[39;00m _global_forward_hooks \u001b[38;5;129;01mor\u001b[39;00m _global_forward_pre_hooks):\n\u001b[0;32m-> 1194\u001b[0m     \u001b[38;5;28;01mreturn\u001b[39;00m \u001b[43mforward_call\u001b[49m\u001b[43m(\u001b[49m\u001b[38;5;241;43m*\u001b[39;49m\u001b[38;5;28;43minput\u001b[39;49m\u001b[43m,\u001b[49m\u001b[43m \u001b[49m\u001b[38;5;241;43m*\u001b[39;49m\u001b[38;5;241;43m*\u001b[39;49m\u001b[43mkwargs\u001b[49m\u001b[43m)\u001b[49m\n\u001b[1;32m   1195\u001b[0m \u001b[38;5;66;03m# Do not call functions when jit is used\u001b[39;00m\n\u001b[1;32m   1196\u001b[0m full_backward_hooks, non_full_backward_hooks \u001b[38;5;241m=\u001b[39m [], []\n",
      "Cell \u001b[0;32mIn[13], line 81\u001b[0m, in \u001b[0;36mCRNN_Model.forward\u001b[0;34m(self, x)\u001b[0m\n\u001b[1;32m     79\u001b[0m x \u001b[38;5;241m=\u001b[39m x\u001b[38;5;241m.\u001b[39munsqueeze(\u001b[38;5;241m1\u001b[39m) \n\u001b[1;32m     80\u001b[0m \u001b[38;5;28mprint\u001b[39m(x\u001b[38;5;241m.\u001b[39mshape)\n\u001b[0;32m---> 81\u001b[0m ot \u001b[38;5;241m=\u001b[39m \u001b[38;5;28;43mself\u001b[39;49m\u001b[38;5;241;43m.\u001b[39;49m\u001b[43mCNNblock\u001b[49m\u001b[43m(\u001b[49m\u001b[43mx\u001b[49m\u001b[43m)\u001b[49m\n\u001b[1;32m     82\u001b[0m \u001b[38;5;66;03m# Flatten ot to have shape (batch_size, -1)\u001b[39;00m\n\u001b[1;32m     83\u001b[0m ot \u001b[38;5;241m=\u001b[39m ot\u001b[38;5;241m.\u001b[39mview(ot\u001b[38;5;241m.\u001b[39msize(\u001b[38;5;241m0\u001b[39m), \u001b[38;5;241m-\u001b[39m\u001b[38;5;241m1\u001b[39m)\n",
      "File \u001b[0;32m~/cslab/lib/python3.8/site-packages/torch/nn/modules/module.py:1194\u001b[0m, in \u001b[0;36mModule._call_impl\u001b[0;34m(self, *input, **kwargs)\u001b[0m\n\u001b[1;32m   1190\u001b[0m \u001b[38;5;66;03m# If we don't have any hooks, we want to skip the rest of the logic in\u001b[39;00m\n\u001b[1;32m   1191\u001b[0m \u001b[38;5;66;03m# this function, and just call forward.\u001b[39;00m\n\u001b[1;32m   1192\u001b[0m \u001b[38;5;28;01mif\u001b[39;00m \u001b[38;5;129;01mnot\u001b[39;00m (\u001b[38;5;28mself\u001b[39m\u001b[38;5;241m.\u001b[39m_backward_hooks \u001b[38;5;129;01mor\u001b[39;00m \u001b[38;5;28mself\u001b[39m\u001b[38;5;241m.\u001b[39m_forward_hooks \u001b[38;5;129;01mor\u001b[39;00m \u001b[38;5;28mself\u001b[39m\u001b[38;5;241m.\u001b[39m_forward_pre_hooks \u001b[38;5;129;01mor\u001b[39;00m _global_backward_hooks\n\u001b[1;32m   1193\u001b[0m         \u001b[38;5;129;01mor\u001b[39;00m _global_forward_hooks \u001b[38;5;129;01mor\u001b[39;00m _global_forward_pre_hooks):\n\u001b[0;32m-> 1194\u001b[0m     \u001b[38;5;28;01mreturn\u001b[39;00m \u001b[43mforward_call\u001b[49m\u001b[43m(\u001b[49m\u001b[38;5;241;43m*\u001b[39;49m\u001b[38;5;28;43minput\u001b[39;49m\u001b[43m,\u001b[49m\u001b[43m \u001b[49m\u001b[38;5;241;43m*\u001b[39;49m\u001b[38;5;241;43m*\u001b[39;49m\u001b[43mkwargs\u001b[49m\u001b[43m)\u001b[49m\n\u001b[1;32m   1195\u001b[0m \u001b[38;5;66;03m# Do not call functions when jit is used\u001b[39;00m\n\u001b[1;32m   1196\u001b[0m full_backward_hooks, non_full_backward_hooks \u001b[38;5;241m=\u001b[39m [], []\n",
      "File \u001b[0;32m~/cslab/lib/python3.8/site-packages/torch/nn/modules/container.py:204\u001b[0m, in \u001b[0;36mSequential.forward\u001b[0;34m(self, input)\u001b[0m\n\u001b[1;32m    202\u001b[0m \u001b[38;5;28;01mdef\u001b[39;00m \u001b[38;5;21mforward\u001b[39m(\u001b[38;5;28mself\u001b[39m, \u001b[38;5;28minput\u001b[39m):\n\u001b[1;32m    203\u001b[0m     \u001b[38;5;28;01mfor\u001b[39;00m module \u001b[38;5;129;01min\u001b[39;00m \u001b[38;5;28mself\u001b[39m:\n\u001b[0;32m--> 204\u001b[0m         \u001b[38;5;28minput\u001b[39m \u001b[38;5;241m=\u001b[39m \u001b[43mmodule\u001b[49m\u001b[43m(\u001b[49m\u001b[38;5;28;43minput\u001b[39;49m\u001b[43m)\u001b[49m\n\u001b[1;32m    205\u001b[0m     \u001b[38;5;28;01mreturn\u001b[39;00m \u001b[38;5;28minput\u001b[39m\n",
      "File \u001b[0;32m~/cslab/lib/python3.8/site-packages/torch/nn/modules/module.py:1194\u001b[0m, in \u001b[0;36mModule._call_impl\u001b[0;34m(self, *input, **kwargs)\u001b[0m\n\u001b[1;32m   1190\u001b[0m \u001b[38;5;66;03m# If we don't have any hooks, we want to skip the rest of the logic in\u001b[39;00m\n\u001b[1;32m   1191\u001b[0m \u001b[38;5;66;03m# this function, and just call forward.\u001b[39;00m\n\u001b[1;32m   1192\u001b[0m \u001b[38;5;28;01mif\u001b[39;00m \u001b[38;5;129;01mnot\u001b[39;00m (\u001b[38;5;28mself\u001b[39m\u001b[38;5;241m.\u001b[39m_backward_hooks \u001b[38;5;129;01mor\u001b[39;00m \u001b[38;5;28mself\u001b[39m\u001b[38;5;241m.\u001b[39m_forward_hooks \u001b[38;5;129;01mor\u001b[39;00m \u001b[38;5;28mself\u001b[39m\u001b[38;5;241m.\u001b[39m_forward_pre_hooks \u001b[38;5;129;01mor\u001b[39;00m _global_backward_hooks\n\u001b[1;32m   1193\u001b[0m         \u001b[38;5;129;01mor\u001b[39;00m _global_forward_hooks \u001b[38;5;129;01mor\u001b[39;00m _global_forward_pre_hooks):\n\u001b[0;32m-> 1194\u001b[0m     \u001b[38;5;28;01mreturn\u001b[39;00m \u001b[43mforward_call\u001b[49m\u001b[43m(\u001b[49m\u001b[38;5;241;43m*\u001b[39;49m\u001b[38;5;28;43minput\u001b[39;49m\u001b[43m,\u001b[49m\u001b[43m \u001b[49m\u001b[38;5;241;43m*\u001b[39;49m\u001b[38;5;241;43m*\u001b[39;49m\u001b[43mkwargs\u001b[49m\u001b[43m)\u001b[49m\n\u001b[1;32m   1195\u001b[0m \u001b[38;5;66;03m# Do not call functions when jit is used\u001b[39;00m\n\u001b[1;32m   1196\u001b[0m full_backward_hooks, non_full_backward_hooks \u001b[38;5;241m=\u001b[39m [], []\n",
      "File \u001b[0;32m~/cslab/lib/python3.8/site-packages/torch/nn/modules/container.py:204\u001b[0m, in \u001b[0;36mSequential.forward\u001b[0;34m(self, input)\u001b[0m\n\u001b[1;32m    202\u001b[0m \u001b[38;5;28;01mdef\u001b[39;00m \u001b[38;5;21mforward\u001b[39m(\u001b[38;5;28mself\u001b[39m, \u001b[38;5;28minput\u001b[39m):\n\u001b[1;32m    203\u001b[0m     \u001b[38;5;28;01mfor\u001b[39;00m module \u001b[38;5;129;01min\u001b[39;00m \u001b[38;5;28mself\u001b[39m:\n\u001b[0;32m--> 204\u001b[0m         \u001b[38;5;28minput\u001b[39m \u001b[38;5;241m=\u001b[39m \u001b[43mmodule\u001b[49m\u001b[43m(\u001b[49m\u001b[38;5;28;43minput\u001b[39;49m\u001b[43m)\u001b[49m\n\u001b[1;32m    205\u001b[0m     \u001b[38;5;28;01mreturn\u001b[39;00m \u001b[38;5;28minput\u001b[39m\n",
      "File \u001b[0;32m~/cslab/lib/python3.8/site-packages/torch/nn/modules/module.py:1194\u001b[0m, in \u001b[0;36mModule._call_impl\u001b[0;34m(self, *input, **kwargs)\u001b[0m\n\u001b[1;32m   1190\u001b[0m \u001b[38;5;66;03m# If we don't have any hooks, we want to skip the rest of the logic in\u001b[39;00m\n\u001b[1;32m   1191\u001b[0m \u001b[38;5;66;03m# this function, and just call forward.\u001b[39;00m\n\u001b[1;32m   1192\u001b[0m \u001b[38;5;28;01mif\u001b[39;00m \u001b[38;5;129;01mnot\u001b[39;00m (\u001b[38;5;28mself\u001b[39m\u001b[38;5;241m.\u001b[39m_backward_hooks \u001b[38;5;129;01mor\u001b[39;00m \u001b[38;5;28mself\u001b[39m\u001b[38;5;241m.\u001b[39m_forward_hooks \u001b[38;5;129;01mor\u001b[39;00m \u001b[38;5;28mself\u001b[39m\u001b[38;5;241m.\u001b[39m_forward_pre_hooks \u001b[38;5;129;01mor\u001b[39;00m _global_backward_hooks\n\u001b[1;32m   1193\u001b[0m         \u001b[38;5;129;01mor\u001b[39;00m _global_forward_hooks \u001b[38;5;129;01mor\u001b[39;00m _global_forward_pre_hooks):\n\u001b[0;32m-> 1194\u001b[0m     \u001b[38;5;28;01mreturn\u001b[39;00m \u001b[43mforward_call\u001b[49m\u001b[43m(\u001b[49m\u001b[38;5;241;43m*\u001b[39;49m\u001b[38;5;28;43minput\u001b[39;49m\u001b[43m,\u001b[49m\u001b[43m \u001b[49m\u001b[38;5;241;43m*\u001b[39;49m\u001b[38;5;241;43m*\u001b[39;49m\u001b[43mkwargs\u001b[49m\u001b[43m)\u001b[49m\n\u001b[1;32m   1195\u001b[0m \u001b[38;5;66;03m# Do not call functions when jit is used\u001b[39;00m\n\u001b[1;32m   1196\u001b[0m full_backward_hooks, non_full_backward_hooks \u001b[38;5;241m=\u001b[39m [], []\n",
      "File \u001b[0;32m~/cslab/lib/python3.8/site-packages/torch/nn/modules/conv.py:613\u001b[0m, in \u001b[0;36mConv3d.forward\u001b[0;34m(self, input)\u001b[0m\n\u001b[1;32m    612\u001b[0m \u001b[38;5;28;01mdef\u001b[39;00m \u001b[38;5;21mforward\u001b[39m(\u001b[38;5;28mself\u001b[39m, \u001b[38;5;28minput\u001b[39m: Tensor) \u001b[38;5;241m-\u001b[39m\u001b[38;5;241m>\u001b[39m Tensor:\n\u001b[0;32m--> 613\u001b[0m     \u001b[38;5;28;01mreturn\u001b[39;00m \u001b[38;5;28;43mself\u001b[39;49m\u001b[38;5;241;43m.\u001b[39;49m\u001b[43m_conv_forward\u001b[49m\u001b[43m(\u001b[49m\u001b[38;5;28;43minput\u001b[39;49m\u001b[43m,\u001b[49m\u001b[43m \u001b[49m\u001b[38;5;28;43mself\u001b[39;49m\u001b[38;5;241;43m.\u001b[39;49m\u001b[43mweight\u001b[49m\u001b[43m,\u001b[49m\u001b[43m \u001b[49m\u001b[38;5;28;43mself\u001b[39;49m\u001b[38;5;241;43m.\u001b[39;49m\u001b[43mbias\u001b[49m\u001b[43m)\u001b[49m\n",
      "File \u001b[0;32m~/cslab/lib/python3.8/site-packages/torch/nn/modules/conv.py:608\u001b[0m, in \u001b[0;36mConv3d._conv_forward\u001b[0;34m(self, input, weight, bias)\u001b[0m\n\u001b[1;32m    596\u001b[0m \u001b[38;5;28;01mif\u001b[39;00m \u001b[38;5;28mself\u001b[39m\u001b[38;5;241m.\u001b[39mpadding_mode \u001b[38;5;241m!=\u001b[39m \u001b[38;5;124m\"\u001b[39m\u001b[38;5;124mzeros\u001b[39m\u001b[38;5;124m\"\u001b[39m:\n\u001b[1;32m    597\u001b[0m     \u001b[38;5;28;01mreturn\u001b[39;00m F\u001b[38;5;241m.\u001b[39mconv3d(\n\u001b[1;32m    598\u001b[0m         F\u001b[38;5;241m.\u001b[39mpad(\n\u001b[1;32m    599\u001b[0m             \u001b[38;5;28minput\u001b[39m, \u001b[38;5;28mself\u001b[39m\u001b[38;5;241m.\u001b[39m_reversed_padding_repeated_twice, mode\u001b[38;5;241m=\u001b[39m\u001b[38;5;28mself\u001b[39m\u001b[38;5;241m.\u001b[39mpadding_mode\n\u001b[0;32m   (...)\u001b[0m\n\u001b[1;32m    606\u001b[0m         \u001b[38;5;28mself\u001b[39m\u001b[38;5;241m.\u001b[39mgroups,\n\u001b[1;32m    607\u001b[0m     )\n\u001b[0;32m--> 608\u001b[0m \u001b[38;5;28;01mreturn\u001b[39;00m \u001b[43mF\u001b[49m\u001b[38;5;241;43m.\u001b[39;49m\u001b[43mconv3d\u001b[49m\u001b[43m(\u001b[49m\n\u001b[1;32m    609\u001b[0m \u001b[43m    \u001b[49m\u001b[38;5;28;43minput\u001b[39;49m\u001b[43m,\u001b[49m\u001b[43m \u001b[49m\u001b[43mweight\u001b[49m\u001b[43m,\u001b[49m\u001b[43m \u001b[49m\u001b[43mbias\u001b[49m\u001b[43m,\u001b[49m\u001b[43m \u001b[49m\u001b[38;5;28;43mself\u001b[39;49m\u001b[38;5;241;43m.\u001b[39;49m\u001b[43mstride\u001b[49m\u001b[43m,\u001b[49m\u001b[43m \u001b[49m\u001b[38;5;28;43mself\u001b[39;49m\u001b[38;5;241;43m.\u001b[39;49m\u001b[43mpadding\u001b[49m\u001b[43m,\u001b[49m\u001b[43m \u001b[49m\u001b[38;5;28;43mself\u001b[39;49m\u001b[38;5;241;43m.\u001b[39;49m\u001b[43mdilation\u001b[49m\u001b[43m,\u001b[49m\u001b[43m \u001b[49m\u001b[38;5;28;43mself\u001b[39;49m\u001b[38;5;241;43m.\u001b[39;49m\u001b[43mgroups\u001b[49m\n\u001b[1;32m    610\u001b[0m \u001b[43m\u001b[49m\u001b[43m)\u001b[49m\n",
      "\u001b[0;31mRuntimeError\u001b[0m: expected scalar type Double but found Float"
     ]
    }
   ],
   "source": [
    "# Convert the input data to torch.double before passing it to the model\n",
    "with torch.no_grad():\n",
    "    for data, target in tqdm(train_loader, desc=\"Calculating EER\", leave=False):\n",
    "        data, target = data.to(device), target.to(device)\n",
    "        # Convert the data to double precision\n",
    "        data = data.double()\n",
    "        output = loaded_model(data).cpu().numpy()\n",
    "        all_scores.extend(output)\n",
    "        all_targets.extend(target.cpu().numpy())\n",
    "\n",
    "    fpr, fnr, thresholds = roc_curve(all_targets, all_scores, pos_label=1)\n",
    "    eer_threshold = thresholds[np.nanargmin(np.abs(fnr - fpr))]\n",
    "    eer = fpr[np.nanargmin(np.abs(fnr - fpr))]\n",
    "    print(f\"Epoch {epoch}, Equal Error Rate (EER): {eer:.4f}\")"
   ]
  },
  {
   "cell_type": "code",
   "execution_count": 26,
   "id": "18f03e3d-2816-482e-995a-90829b6e1fab",
   "metadata": {},
   "outputs": [
    {
     "data": {
      "image/png": "[encoded data removed]",
      "text/plain": [
       "<Figure size 1000x400 with 3 Axes>"
      ]
     },
     "metadata": {},
     "output_type": "display_data"
    }
   ],
   "source": [
    "import matplotlib.pyplot as plt\n",
    "\n",
    "epochs = range(1, 11)  # Assuming 10 epochs in this case\n",
    "\n",
    "train_loss = [0.5394, 0.5154, 0.5165, 0.5168, 0.5147, 0.5141, 0.5115, 0.5135, 0.5115, 0.5121]\n",
    "train_accuracy = [0.9302, 0.9884, 0.9840, 0.9828, 0.9880, 0.9914, 0.9958, 0.9920, 0.9960, 0.9950]\n",
    "train_eer = [0.0702, 0.0124, 0.0159, 0.0178, 0.0105, 0.0120, 0.0054, 0.0085, 0.0050, 0.0058]\n",
    "\n",
    "plt.figure(figsize=(10, 4))\n",
    "\n",
    "# Plot Training Loss\n",
    "plt.subplot(1, 3, 1)\n",
    "plt.plot(epochs, train_loss, marker='o')\n",
    "plt.title('Training Loss')\n",
    "plt.xlabel('Epochs')\n",
    "plt.ylabel('Loss')\n",
    "\n",
    "# Plot Training Accuracy\n",
    "plt.subplot(1, 3, 2)\n",
    "plt.plot(epochs, train_accuracy, marker='o', color='r')\n",
    "plt.title('Training Accuracy')\n",
    "plt.xlabel('Epochs')\n",
    "plt.ylabel('Accuracy')\n",
    "\n",
    "# Plot Training EER\n",
    "plt.subplot(1, 3, 3)\n",
    "plt.plot(epochs, train_eer, marker='o', color='g')\n",
    "plt.title('Training Equal Error Rate (EER)')\n",
    "plt.xlabel('Epochs')\n",
    "plt.ylabel('EER')\n",
    "\n",
    "plt.tight_layout()\n",
    "plt.show()\n"
   ]
  },
  {
   "cell_type": "code",
   "execution_count": 29,
   "id": "e0c3c491-53d6-4cae-a0d9-e8d38ab869f0",
   "metadata": {},
   "outputs": [
    {
     "ename": "RuntimeError",
     "evalue": "Attempting to deserialize object on a CUDA device but torch.cuda.is_available() is False. If you are running on a CPU-only machine, please use torch.load with map_location=torch.device('cpu') to map your storages to the CPU.",
     "output_type": "error",
     "traceback": [
      "\u001b[0;31m---------------------------------------------------------------------------\u001b[0m",
      "\u001b[0;31mRuntimeError\u001b[0m                              Traceback (most recent call last)",
      "Cell \u001b[0;32mIn[29], line 3\u001b[0m\n\u001b[1;32m      1\u001b[0m \u001b[38;5;66;03m# Load the saved model\u001b[39;00m\n\u001b[1;32m      2\u001b[0m model \u001b[38;5;241m=\u001b[39m CRNN_Model(num_class\u001b[38;5;241m=\u001b[39m\u001b[38;5;241m2\u001b[39m, msr_size\u001b[38;5;241m=\u001b[39m(\u001b[38;5;241m23\u001b[39m, \u001b[38;5;241m8\u001b[39m), rnn_hidden_size\u001b[38;5;241m=\u001b[39m\u001b[38;5;241m128\u001b[39m, dropout\u001b[38;5;241m=\u001b[39m\u001b[38;5;241m0.7\u001b[39m, tem_fac\u001b[38;5;241m=\u001b[39m[\u001b[38;5;241m1\u001b[39m, \u001b[38;5;241m2\u001b[39m, \u001b[38;5;241m1\u001b[39m])\n\u001b[0;32m----> 3\u001b[0m model\u001b[38;5;241m.\u001b[39mload_state_dict(\u001b[43mtorch\u001b[49m\u001b[38;5;241;43m.\u001b[39;49m\u001b[43mload\u001b[49m\u001b[43m(\u001b[49m\u001b[38;5;124;43m\"\u001b[39;49m\u001b[38;5;124;43mcrnn_model_epoch_10.pt\u001b[39;49m\u001b[38;5;124;43m\"\u001b[39;49m\u001b[43m)\u001b[49m)  \u001b[38;5;66;03m# Replace X with the desired epoch number\u001b[39;00m\n\u001b[1;32m      4\u001b[0m model\u001b[38;5;241m.\u001b[39mto(device)\n\u001b[1;32m      5\u001b[0m model\u001b[38;5;241m.\u001b[39meval() \n",
      "File \u001b[0;32m~/cslab/lib/python3.8/site-packages/torch/serialization.py:789\u001b[0m, in \u001b[0;36mload\u001b[0;34m(f, map_location, pickle_module, weights_only, **pickle_load_args)\u001b[0m\n\u001b[1;32m    787\u001b[0m             \u001b[38;5;28;01mexcept\u001b[39;00m \u001b[38;5;167;01mRuntimeError\u001b[39;00m \u001b[38;5;28;01mas\u001b[39;00m e:\n\u001b[1;32m    788\u001b[0m                 \u001b[38;5;28;01mraise\u001b[39;00m pickle\u001b[38;5;241m.\u001b[39mUnpicklingError(UNSAFE_MESSAGE \u001b[38;5;241m+\u001b[39m \u001b[38;5;28mstr\u001b[39m(e)) \u001b[38;5;28;01mfrom\u001b[39;00m \u001b[38;5;28;01mNone\u001b[39;00m\n\u001b[0;32m--> 789\u001b[0m         \u001b[38;5;28;01mreturn\u001b[39;00m \u001b[43m_load\u001b[49m\u001b[43m(\u001b[49m\u001b[43mopened_zipfile\u001b[49m\u001b[43m,\u001b[49m\u001b[43m \u001b[49m\u001b[43mmap_location\u001b[49m\u001b[43m,\u001b[49m\u001b[43m \u001b[49m\u001b[43mpickle_module\u001b[49m\u001b[43m,\u001b[49m\u001b[43m \u001b[49m\u001b[38;5;241;43m*\u001b[39;49m\u001b[38;5;241;43m*\u001b[39;49m\u001b[43mpickle_load_args\u001b[49m\u001b[43m)\u001b[49m\n\u001b[1;32m    790\u001b[0m \u001b[38;5;28;01mif\u001b[39;00m weights_only:\n\u001b[1;32m    791\u001b[0m     \u001b[38;5;28;01mtry\u001b[39;00m:\n",
      "File \u001b[0;32m~/cslab/lib/python3.8/site-packages/torch/serialization.py:1131\u001b[0m, in \u001b[0;36m_load\u001b[0;34m(zip_file, map_location, pickle_module, pickle_file, **pickle_load_args)\u001b[0m\n\u001b[1;32m   1129\u001b[0m unpickler \u001b[38;5;241m=\u001b[39m UnpicklerWrapper(data_file, \u001b[38;5;241m*\u001b[39m\u001b[38;5;241m*\u001b[39mpickle_load_args)\n\u001b[1;32m   1130\u001b[0m unpickler\u001b[38;5;241m.\u001b[39mpersistent_load \u001b[38;5;241m=\u001b[39m persistent_load\n\u001b[0;32m-> 1131\u001b[0m result \u001b[38;5;241m=\u001b[39m \u001b[43munpickler\u001b[49m\u001b[38;5;241;43m.\u001b[39;49m\u001b[43mload\u001b[49m\u001b[43m(\u001b[49m\u001b[43m)\u001b[49m\n\u001b[1;32m   1133\u001b[0m torch\u001b[38;5;241m.\u001b[39m_utils\u001b[38;5;241m.\u001b[39m_validate_loaded_sparse_tensors()\n\u001b[1;32m   1135\u001b[0m \u001b[38;5;28;01mreturn\u001b[39;00m result\n",
      "File \u001b[0;32m~/cslab/lib/python3.8/site-packages/torch/serialization.py:1101\u001b[0m, in \u001b[0;36m_load.<locals>.persistent_load\u001b[0;34m(saved_id)\u001b[0m\n\u001b[1;32m   1099\u001b[0m \u001b[38;5;28;01mif\u001b[39;00m key \u001b[38;5;129;01mnot\u001b[39;00m \u001b[38;5;129;01min\u001b[39;00m loaded_storages:\n\u001b[1;32m   1100\u001b[0m     nbytes \u001b[38;5;241m=\u001b[39m numel \u001b[38;5;241m*\u001b[39m torch\u001b[38;5;241m.\u001b[39m_utils\u001b[38;5;241m.\u001b[39m_element_size(dtype)\n\u001b[0;32m-> 1101\u001b[0m     \u001b[43mload_tensor\u001b[49m\u001b[43m(\u001b[49m\u001b[43mdtype\u001b[49m\u001b[43m,\u001b[49m\u001b[43m \u001b[49m\u001b[43mnbytes\u001b[49m\u001b[43m,\u001b[49m\u001b[43m \u001b[49m\u001b[43mkey\u001b[49m\u001b[43m,\u001b[49m\u001b[43m \u001b[49m\u001b[43m_maybe_decode_ascii\u001b[49m\u001b[43m(\u001b[49m\u001b[43mlocation\u001b[49m\u001b[43m)\u001b[49m\u001b[43m)\u001b[49m\n\u001b[1;32m   1103\u001b[0m \u001b[38;5;28;01mreturn\u001b[39;00m loaded_storages[key]\n",
      "File \u001b[0;32m~/cslab/lib/python3.8/site-packages/torch/serialization.py:1083\u001b[0m, in \u001b[0;36m_load.<locals>.load_tensor\u001b[0;34m(dtype, numel, key, location)\u001b[0m\n\u001b[1;32m   1079\u001b[0m storage \u001b[38;5;241m=\u001b[39m zip_file\u001b[38;5;241m.\u001b[39mget_storage_from_record(name, numel, torch\u001b[38;5;241m.\u001b[39mUntypedStorage)\u001b[38;5;241m.\u001b[39mstorage()\u001b[38;5;241m.\u001b[39muntyped()\n\u001b[1;32m   1080\u001b[0m \u001b[38;5;66;03m# TODO: Once we decide to break serialization FC, we can\u001b[39;00m\n\u001b[1;32m   1081\u001b[0m \u001b[38;5;66;03m# stop wrapping with TypedStorage\u001b[39;00m\n\u001b[1;32m   1082\u001b[0m loaded_storages[key] \u001b[38;5;241m=\u001b[39m torch\u001b[38;5;241m.\u001b[39mstorage\u001b[38;5;241m.\u001b[39mTypedStorage(\n\u001b[0;32m-> 1083\u001b[0m     wrap_storage\u001b[38;5;241m=\u001b[39m\u001b[43mrestore_location\u001b[49m\u001b[43m(\u001b[49m\u001b[43mstorage\u001b[49m\u001b[43m,\u001b[49m\u001b[43m \u001b[49m\u001b[43mlocation\u001b[49m\u001b[43m)\u001b[49m,\n\u001b[1;32m   1084\u001b[0m     dtype\u001b[38;5;241m=\u001b[39mdtype)\n",
      "File \u001b[0;32m~/cslab/lib/python3.8/site-packages/torch/serialization.py:215\u001b[0m, in \u001b[0;36mdefault_restore_location\u001b[0;34m(storage, location)\u001b[0m\n\u001b[1;32m    213\u001b[0m \u001b[38;5;28;01mdef\u001b[39;00m \u001b[38;5;21mdefault_restore_location\u001b[39m(storage, location):\n\u001b[1;32m    214\u001b[0m     \u001b[38;5;28;01mfor\u001b[39;00m _, _, fn \u001b[38;5;129;01min\u001b[39;00m _package_registry:\n\u001b[0;32m--> 215\u001b[0m         result \u001b[38;5;241m=\u001b[39m \u001b[43mfn\u001b[49m\u001b[43m(\u001b[49m\u001b[43mstorage\u001b[49m\u001b[43m,\u001b[49m\u001b[43m \u001b[49m\u001b[43mlocation\u001b[49m\u001b[43m)\u001b[49m\n\u001b[1;32m    216\u001b[0m         \u001b[38;5;28;01mif\u001b[39;00m result \u001b[38;5;129;01mis\u001b[39;00m \u001b[38;5;129;01mnot\u001b[39;00m \u001b[38;5;28;01mNone\u001b[39;00m:\n\u001b[1;32m    217\u001b[0m             \u001b[38;5;28;01mreturn\u001b[39;00m result\n",
      "File \u001b[0;32m~/cslab/lib/python3.8/site-packages/torch/serialization.py:182\u001b[0m, in \u001b[0;36m_cuda_deserialize\u001b[0;34m(obj, location)\u001b[0m\n\u001b[1;32m    180\u001b[0m \u001b[38;5;28;01mdef\u001b[39;00m \u001b[38;5;21m_cuda_deserialize\u001b[39m(obj, location):\n\u001b[1;32m    181\u001b[0m     \u001b[38;5;28;01mif\u001b[39;00m location\u001b[38;5;241m.\u001b[39mstartswith(\u001b[38;5;124m'\u001b[39m\u001b[38;5;124mcuda\u001b[39m\u001b[38;5;124m'\u001b[39m):\n\u001b[0;32m--> 182\u001b[0m         device \u001b[38;5;241m=\u001b[39m \u001b[43mvalidate_cuda_device\u001b[49m\u001b[43m(\u001b[49m\u001b[43mlocation\u001b[49m\u001b[43m)\u001b[49m\n\u001b[1;32m    183\u001b[0m         \u001b[38;5;28;01mif\u001b[39;00m \u001b[38;5;28mgetattr\u001b[39m(obj, \u001b[38;5;124m\"\u001b[39m\u001b[38;5;124m_torch_load_uninitialized\u001b[39m\u001b[38;5;124m\"\u001b[39m, \u001b[38;5;28;01mFalse\u001b[39;00m):\n\u001b[1;32m    184\u001b[0m             \u001b[38;5;28;01mwith\u001b[39;00m torch\u001b[38;5;241m.\u001b[39mcuda\u001b[38;5;241m.\u001b[39mdevice(device):\n",
      "File \u001b[0;32m~/cslab/lib/python3.8/site-packages/torch/serialization.py:166\u001b[0m, in \u001b[0;36mvalidate_cuda_device\u001b[0;34m(location)\u001b[0m\n\u001b[1;32m    163\u001b[0m device \u001b[38;5;241m=\u001b[39m torch\u001b[38;5;241m.\u001b[39mcuda\u001b[38;5;241m.\u001b[39m_utils\u001b[38;5;241m.\u001b[39m_get_device_index(location, \u001b[38;5;28;01mTrue\u001b[39;00m)\n\u001b[1;32m    165\u001b[0m \u001b[38;5;28;01mif\u001b[39;00m \u001b[38;5;129;01mnot\u001b[39;00m torch\u001b[38;5;241m.\u001b[39mcuda\u001b[38;5;241m.\u001b[39mis_available():\n\u001b[0;32m--> 166\u001b[0m     \u001b[38;5;28;01mraise\u001b[39;00m \u001b[38;5;167;01mRuntimeError\u001b[39;00m(\u001b[38;5;124m'\u001b[39m\u001b[38;5;124mAttempting to deserialize object on a CUDA \u001b[39m\u001b[38;5;124m'\u001b[39m\n\u001b[1;32m    167\u001b[0m                        \u001b[38;5;124m'\u001b[39m\u001b[38;5;124mdevice but torch.cuda.is_available() is False. \u001b[39m\u001b[38;5;124m'\u001b[39m\n\u001b[1;32m    168\u001b[0m                        \u001b[38;5;124m'\u001b[39m\u001b[38;5;124mIf you are running on a CPU-only machine, \u001b[39m\u001b[38;5;124m'\u001b[39m\n\u001b[1;32m    169\u001b[0m                        \u001b[38;5;124m'\u001b[39m\u001b[38;5;124mplease use torch.load with map_location=torch.device(\u001b[39m\u001b[38;5;130;01m\\'\u001b[39;00m\u001b[38;5;124mcpu\u001b[39m\u001b[38;5;130;01m\\'\u001b[39;00m\u001b[38;5;124m) \u001b[39m\u001b[38;5;124m'\u001b[39m\n\u001b[1;32m    170\u001b[0m                        \u001b[38;5;124m'\u001b[39m\u001b[38;5;124mto map your storages to the CPU.\u001b[39m\u001b[38;5;124m'\u001b[39m)\n\u001b[1;32m    171\u001b[0m device_count \u001b[38;5;241m=\u001b[39m torch\u001b[38;5;241m.\u001b[39mcuda\u001b[38;5;241m.\u001b[39mdevice_count()\n\u001b[1;32m    172\u001b[0m \u001b[38;5;28;01mif\u001b[39;00m device \u001b[38;5;241m>\u001b[39m\u001b[38;5;241m=\u001b[39m device_count:\n",
      "\u001b[0;31mRuntimeError\u001b[0m: Attempting to deserialize object on a CUDA device but torch.cuda.is_available() is False. If you are running on a CPU-only machine, please use torch.load with map_location=torch.device('cpu') to map your storages to the CPU."
     ]
    }
   ],
   "source": [
    "# Load the saved model\n",
    "model = CRNN_Model(num_class=2, msr_size=(23, 8), rnn_hidden_size=128, dropout=0.7, tem_fac=[1, 2, 1])\n",
    "model.load_state_dict(torch.load(\"crnn_model_epoch_10.pt\"))  # Replace X with the desired epoch number\n",
    "model.to(device)\n",
    "model.eval() "
   ]
  },
  {
   "cell_type": "code",
   "execution_count": 49,
   "id": "34b0bb50-250b-4d3c-bd4d-f753b91f2f96",
   "metadata": {},
   "outputs": [
    {
     "data": {
      "text/plain": [
       "CRNN_Model(\n",
       "  (dp): Dropout(p=0.7, inplace=False)\n",
       "  (relu): ReLU(inplace=True)\n",
       "  (sig): Sigmoid()\n",
       "  (tanh): Tanh()\n",
       "  (cnn1): Sequential(\n",
       "    (0): Conv3d(1, 16, kernel_size=(3, 3, 3), stride=(1, 1, 1), padding=(1, 1, 1))\n",
       "    (1): BatchNorm3d(16, eps=1e-05, momentum=0.1, affine=True, track_running_stats=True)\n",
       "    (2): MaxPool3d(kernel_size=(1, 1, 1), stride=(1, 1, 1), padding=0, dilation=1, ceil_mode=False)\n",
       "    (3): ReLU(inplace=True)\n",
       "  )\n",
       "  (cnn2): Sequential(\n",
       "    (0): Conv3d(16, 16, kernel_size=(3, 3, 3), stride=(1, 1, 1), padding=(1, 1, 1))\n",
       "    (1): BatchNorm3d(16, eps=1e-05, momentum=0.1, affine=True, track_running_stats=True)\n",
       "    (2): MaxPool3d(kernel_size=(2, 1, 1), stride=(2, 1, 1), padding=0, dilation=1, ceil_mode=False)\n",
       "    (3): ReLU(inplace=True)\n",
       "  )\n",
       "  (cnn3): Sequential(\n",
       "    (0): Conv3d(16, 4, kernel_size=(3, 3, 3), stride=(1, 1, 1), padding=(1, 1, 1))\n",
       "    (1): BatchNorm3d(4, eps=1e-05, momentum=0.1, affine=True, track_running_stats=True)\n",
       "    (2): MaxPool3d(kernel_size=(1, 1, 1), stride=(1, 1, 1), padding=0, dilation=1, ceil_mode=False)\n",
       "    (3): ReLU(inplace=True)\n",
       "  )\n",
       "  (downsample): MaxPool3d(kernel_size=(2, 2, 2), stride=(2, 2, 2), padding=0, dilation=1, ceil_mode=False)\n",
       "  (CNNblock): Sequential(\n",
       "    (0): Sequential(\n",
       "      (0): Conv3d(1, 16, kernel_size=(3, 3, 3), stride=(1, 1, 1), padding=(1, 1, 1))\n",
       "      (1): BatchNorm3d(16, eps=1e-05, momentum=0.1, affine=True, track_running_stats=True)\n",
       "      (2): MaxPool3d(kernel_size=(1, 1, 1), stride=(1, 1, 1), padding=0, dilation=1, ceil_mode=False)\n",
       "      (3): ReLU(inplace=True)\n",
       "    )\n",
       "    (1): Sequential(\n",
       "      (0): Conv3d(16, 16, kernel_size=(3, 3, 3), stride=(1, 1, 1), padding=(1, 1, 1))\n",
       "      (1): BatchNorm3d(16, eps=1e-05, momentum=0.1, affine=True, track_running_stats=True)\n",
       "      (2): MaxPool3d(kernel_size=(2, 1, 1), stride=(2, 1, 1), padding=0, dilation=1, ceil_mode=False)\n",
       "      (3): ReLU(inplace=True)\n",
       "    )\n",
       "    (2): Sequential(\n",
       "      (0): Conv3d(16, 4, kernel_size=(3, 3, 3), stride=(1, 1, 1), padding=(1, 1, 1))\n",
       "      (1): BatchNorm3d(4, eps=1e-05, momentum=0.1, affine=True, track_running_stats=True)\n",
       "      (2): MaxPool3d(kernel_size=(1, 1, 1), stride=(1, 1, 1), padding=0, dilation=1, ceil_mode=False)\n",
       "      (3): ReLU(inplace=True)\n",
       "    )\n",
       "  )\n",
       "  (fc1): Sequential(\n",
       "    (0): Linear(in_features=20416, out_features=128, bias=True)\n",
       "    (1): BatchNorm1d(128, eps=1e-05, momentum=0.1, affine=True, track_running_stats=True)\n",
       "    (2): ReLU(inplace=True)\n",
       "    (3): Dropout(p=0.7, inplace=False)\n",
       "  )\n",
       "  (rnn1): GRU(128, 128, num_layers=3, batch_first=True, bidirectional=True)\n",
       "  (layer_norm): LayerNorm((256, 75), eps=1e-05, elementwise_affine=True)\n",
       "  (maxpool): MaxPool1d(kernel_size=75, stride=75, padding=0, dilation=1, ceil_mode=False)\n",
       "  (fc2): Linear(in_features=256, out_features=1, bias=True)\n",
       ")"
      ]
     },
     "execution_count": 49,
     "metadata": {},
     "output_type": "execute_result"
    }
   ],
   "source": [
    "# Load the saved model on CPU\n",
    "model = CRNN_Model(num_class=2, msr_size=(23, 8), rnn_hidden_size=128, dropout=0.7, tem_fac=[1, 2, 1])\n",
    "model.load_state_dict(torch.load(\"crnn_model_epoch_10.pt\", map_location=torch.device('cpu')))  # Replace X with the desired epoch number\n",
    "model.eval()  # Set the model to evaluation mode"
   ]
  },
  {
   "cell_type": "code",
   "execution_count": 50,
   "id": "9e4248ad-c65c-4a11-bc5a-63c7d2743738",
   "metadata": {},
   "outputs": [
    {
     "data": {
      "text/plain": [
       "24844"
      ]
     },
     "execution_count": 50,
     "metadata": {},
     "output_type": "execute_result"
    }
   ],
   "source": [
    "# TEST\n",
    "\n",
    "test_df = pd.read_csv(f'{BASE_PATH}/ASVspoof2019_LA_cm_protocols/ASVspoof2019.LA.cm.dev.trl.txt',\n",
    "                       sep=\" \", header=None)\n",
    "test_df.columns =['speaker_id','filename','system_id','null','class_name']\n",
    "test_df.drop(columns=['null'],inplace=True)\n",
    "test_df['filepath'] = f'{BASE_PATH}/ASVspoof2019_LA_dev/flac/'+test_df.filename+'.flac'\n",
    "test_df['target'] = (test_df.class_name=='spoof').astype('int32')\n",
    "len(test_df)"
   ]
  },
  {
   "cell_type": "code",
   "execution_count": 51,
   "id": "a814934a-7158-45a1-a425-252959ab995b",
   "metadata": {},
   "outputs": [],
   "source": [
    "test_dataset = SRMRDataset(test_df[:5000])\n",
    "test_loader = DataLoader(test_dataset, batch_size=16, shuffle=True)"
   ]
  },
  {
   "cell_type": "code",
   "execution_count": 52,
   "id": "eabd1521-d48d-45b2-98f0-7ee1d94169cc",
   "metadata": {},
   "outputs": [
    {
     "ename": "RuntimeError",
     "evalue": "expected scalar type Double but found Float",
     "output_type": "error",
     "traceback": [
      "\u001b[0;31m---------------------------------------------------------------------------\u001b[0m",
      "\u001b[0;31mRuntimeError\u001b[0m                              Traceback (most recent call last)",
      "Cell \u001b[0;32mIn[52], line 10\u001b[0m\n\u001b[1;32m      8\u001b[0m \u001b[38;5;28;01mfor\u001b[39;00m batch_idx, (data, target) \u001b[38;5;129;01min\u001b[39;00m \u001b[38;5;28menumerate\u001b[39m(test_loader):\n\u001b[1;32m      9\u001b[0m     data, target \u001b[38;5;241m=\u001b[39m data\u001b[38;5;241m.\u001b[39mto(device), target\u001b[38;5;241m.\u001b[39mto(device)\n\u001b[0;32m---> 10\u001b[0m     output \u001b[38;5;241m=\u001b[39m \u001b[43mmodel\u001b[49m\u001b[43m(\u001b[49m\u001b[43mdata\u001b[49m\u001b[43m)\u001b[49m\n\u001b[1;32m     12\u001b[0m     \u001b[38;5;66;03m# Store true labels and predicted scores for EER calculation\u001b[39;00m\n\u001b[1;32m     13\u001b[0m     y_true\u001b[38;5;241m.\u001b[39mextend(target\u001b[38;5;241m.\u001b[39mcpu()\u001b[38;5;241m.\u001b[39mnumpy())\n",
      "File \u001b[0;32m~/cslab/lib/python3.8/site-packages/torch/nn/modules/module.py:1194\u001b[0m, in \u001b[0;36mModule._call_impl\u001b[0;34m(self, *input, **kwargs)\u001b[0m\n\u001b[1;32m   1190\u001b[0m \u001b[38;5;66;03m# If we don't have any hooks, we want to skip the rest of the logic in\u001b[39;00m\n\u001b[1;32m   1191\u001b[0m \u001b[38;5;66;03m# this function, and just call forward.\u001b[39;00m\n\u001b[1;32m   1192\u001b[0m \u001b[38;5;28;01mif\u001b[39;00m \u001b[38;5;129;01mnot\u001b[39;00m (\u001b[38;5;28mself\u001b[39m\u001b[38;5;241m.\u001b[39m_backward_hooks \u001b[38;5;129;01mor\u001b[39;00m \u001b[38;5;28mself\u001b[39m\u001b[38;5;241m.\u001b[39m_forward_hooks \u001b[38;5;129;01mor\u001b[39;00m \u001b[38;5;28mself\u001b[39m\u001b[38;5;241m.\u001b[39m_forward_pre_hooks \u001b[38;5;129;01mor\u001b[39;00m _global_backward_hooks\n\u001b[1;32m   1193\u001b[0m         \u001b[38;5;129;01mor\u001b[39;00m _global_forward_hooks \u001b[38;5;129;01mor\u001b[39;00m _global_forward_pre_hooks):\n\u001b[0;32m-> 1194\u001b[0m     \u001b[38;5;28;01mreturn\u001b[39;00m \u001b[43mforward_call\u001b[49m\u001b[43m(\u001b[49m\u001b[38;5;241;43m*\u001b[39;49m\u001b[38;5;28;43minput\u001b[39;49m\u001b[43m,\u001b[49m\u001b[43m \u001b[49m\u001b[38;5;241;43m*\u001b[39;49m\u001b[38;5;241;43m*\u001b[39;49m\u001b[43mkwargs\u001b[49m\u001b[43m)\u001b[49m\n\u001b[1;32m   1195\u001b[0m \u001b[38;5;66;03m# Do not call functions when jit is used\u001b[39;00m\n\u001b[1;32m   1196\u001b[0m full_backward_hooks, non_full_backward_hooks \u001b[38;5;241m=\u001b[39m [], []\n",
      "Cell \u001b[0;32mIn[47], line 82\u001b[0m, in \u001b[0;36mCRNN_Model.forward\u001b[0;34m(self, x)\u001b[0m\n\u001b[1;32m     80\u001b[0m x \u001b[38;5;241m=\u001b[39m x\u001b[38;5;241m.\u001b[39munsqueeze(\u001b[38;5;241m1\u001b[39m) \n\u001b[1;32m     81\u001b[0m \u001b[38;5;66;03m# print(x.shape)\u001b[39;00m\n\u001b[0;32m---> 82\u001b[0m ot \u001b[38;5;241m=\u001b[39m \u001b[38;5;28;43mself\u001b[39;49m\u001b[38;5;241;43m.\u001b[39;49m\u001b[43mCNNblock\u001b[49m\u001b[43m(\u001b[49m\u001b[43mx\u001b[49m\u001b[43m)\u001b[49m\n\u001b[1;32m     83\u001b[0m \u001b[38;5;66;03m# Flatten ot to have shape (batch_size, -1)\u001b[39;00m\n\u001b[1;32m     84\u001b[0m ot \u001b[38;5;241m=\u001b[39m ot\u001b[38;5;241m.\u001b[39mview(ot\u001b[38;5;241m.\u001b[39msize(\u001b[38;5;241m0\u001b[39m), \u001b[38;5;241m-\u001b[39m\u001b[38;5;241m1\u001b[39m)\n",
      "File \u001b[0;32m~/cslab/lib/python3.8/site-packages/torch/nn/modules/module.py:1194\u001b[0m, in \u001b[0;36mModule._call_impl\u001b[0;34m(self, *input, **kwargs)\u001b[0m\n\u001b[1;32m   1190\u001b[0m \u001b[38;5;66;03m# If we don't have any hooks, we want to skip the rest of the logic in\u001b[39;00m\n\u001b[1;32m   1191\u001b[0m \u001b[38;5;66;03m# this function, and just call forward.\u001b[39;00m\n\u001b[1;32m   1192\u001b[0m \u001b[38;5;28;01mif\u001b[39;00m \u001b[38;5;129;01mnot\u001b[39;00m (\u001b[38;5;28mself\u001b[39m\u001b[38;5;241m.\u001b[39m_backward_hooks \u001b[38;5;129;01mor\u001b[39;00m \u001b[38;5;28mself\u001b[39m\u001b[38;5;241m.\u001b[39m_forward_hooks \u001b[38;5;129;01mor\u001b[39;00m \u001b[38;5;28mself\u001b[39m\u001b[38;5;241m.\u001b[39m_forward_pre_hooks \u001b[38;5;129;01mor\u001b[39;00m _global_backward_hooks\n\u001b[1;32m   1193\u001b[0m         \u001b[38;5;129;01mor\u001b[39;00m _global_forward_hooks \u001b[38;5;129;01mor\u001b[39;00m _global_forward_pre_hooks):\n\u001b[0;32m-> 1194\u001b[0m     \u001b[38;5;28;01mreturn\u001b[39;00m \u001b[43mforward_call\u001b[49m\u001b[43m(\u001b[49m\u001b[38;5;241;43m*\u001b[39;49m\u001b[38;5;28;43minput\u001b[39;49m\u001b[43m,\u001b[49m\u001b[43m \u001b[49m\u001b[38;5;241;43m*\u001b[39;49m\u001b[38;5;241;43m*\u001b[39;49m\u001b[43mkwargs\u001b[49m\u001b[43m)\u001b[49m\n\u001b[1;32m   1195\u001b[0m \u001b[38;5;66;03m# Do not call functions when jit is used\u001b[39;00m\n\u001b[1;32m   1196\u001b[0m full_backward_hooks, non_full_backward_hooks \u001b[38;5;241m=\u001b[39m [], []\n",
      "File \u001b[0;32m~/cslab/lib/python3.8/site-packages/torch/nn/modules/container.py:204\u001b[0m, in \u001b[0;36mSequential.forward\u001b[0;34m(self, input)\u001b[0m\n\u001b[1;32m    202\u001b[0m \u001b[38;5;28;01mdef\u001b[39;00m \u001b[38;5;21mforward\u001b[39m(\u001b[38;5;28mself\u001b[39m, \u001b[38;5;28minput\u001b[39m):\n\u001b[1;32m    203\u001b[0m     \u001b[38;5;28;01mfor\u001b[39;00m module \u001b[38;5;129;01min\u001b[39;00m \u001b[38;5;28mself\u001b[39m:\n\u001b[0;32m--> 204\u001b[0m         \u001b[38;5;28minput\u001b[39m \u001b[38;5;241m=\u001b[39m \u001b[43mmodule\u001b[49m\u001b[43m(\u001b[49m\u001b[38;5;28;43minput\u001b[39;49m\u001b[43m)\u001b[49m\n\u001b[1;32m    205\u001b[0m     \u001b[38;5;28;01mreturn\u001b[39;00m \u001b[38;5;28minput\u001b[39m\n",
      "File \u001b[0;32m~/cslab/lib/python3.8/site-packages/torch/nn/modules/module.py:1194\u001b[0m, in \u001b[0;36mModule._call_impl\u001b[0;34m(self, *input, **kwargs)\u001b[0m\n\u001b[1;32m   1190\u001b[0m \u001b[38;5;66;03m# If we don't have any hooks, we want to skip the rest of the logic in\u001b[39;00m\n\u001b[1;32m   1191\u001b[0m \u001b[38;5;66;03m# this function, and just call forward.\u001b[39;00m\n\u001b[1;32m   1192\u001b[0m \u001b[38;5;28;01mif\u001b[39;00m \u001b[38;5;129;01mnot\u001b[39;00m (\u001b[38;5;28mself\u001b[39m\u001b[38;5;241m.\u001b[39m_backward_hooks \u001b[38;5;129;01mor\u001b[39;00m \u001b[38;5;28mself\u001b[39m\u001b[38;5;241m.\u001b[39m_forward_hooks \u001b[38;5;129;01mor\u001b[39;00m \u001b[38;5;28mself\u001b[39m\u001b[38;5;241m.\u001b[39m_forward_pre_hooks \u001b[38;5;129;01mor\u001b[39;00m _global_backward_hooks\n\u001b[1;32m   1193\u001b[0m         \u001b[38;5;129;01mor\u001b[39;00m _global_forward_hooks \u001b[38;5;129;01mor\u001b[39;00m _global_forward_pre_hooks):\n\u001b[0;32m-> 1194\u001b[0m     \u001b[38;5;28;01mreturn\u001b[39;00m \u001b[43mforward_call\u001b[49m\u001b[43m(\u001b[49m\u001b[38;5;241;43m*\u001b[39;49m\u001b[38;5;28;43minput\u001b[39;49m\u001b[43m,\u001b[49m\u001b[43m \u001b[49m\u001b[38;5;241;43m*\u001b[39;49m\u001b[38;5;241;43m*\u001b[39;49m\u001b[43mkwargs\u001b[49m\u001b[43m)\u001b[49m\n\u001b[1;32m   1195\u001b[0m \u001b[38;5;66;03m# Do not call functions when jit is used\u001b[39;00m\n\u001b[1;32m   1196\u001b[0m full_backward_hooks, non_full_backward_hooks \u001b[38;5;241m=\u001b[39m [], []\n",
      "File \u001b[0;32m~/cslab/lib/python3.8/site-packages/torch/nn/modules/container.py:204\u001b[0m, in \u001b[0;36mSequential.forward\u001b[0;34m(self, input)\u001b[0m\n\u001b[1;32m    202\u001b[0m \u001b[38;5;28;01mdef\u001b[39;00m \u001b[38;5;21mforward\u001b[39m(\u001b[38;5;28mself\u001b[39m, \u001b[38;5;28minput\u001b[39m):\n\u001b[1;32m    203\u001b[0m     \u001b[38;5;28;01mfor\u001b[39;00m module \u001b[38;5;129;01min\u001b[39;00m \u001b[38;5;28mself\u001b[39m:\n\u001b[0;32m--> 204\u001b[0m         \u001b[38;5;28minput\u001b[39m \u001b[38;5;241m=\u001b[39m \u001b[43mmodule\u001b[49m\u001b[43m(\u001b[49m\u001b[38;5;28;43minput\u001b[39;49m\u001b[43m)\u001b[49m\n\u001b[1;32m    205\u001b[0m     \u001b[38;5;28;01mreturn\u001b[39;00m \u001b[38;5;28minput\u001b[39m\n",
      "File \u001b[0;32m~/cslab/lib/python3.8/site-packages/torch/nn/modules/module.py:1194\u001b[0m, in \u001b[0;36mModule._call_impl\u001b[0;34m(self, *input, **kwargs)\u001b[0m\n\u001b[1;32m   1190\u001b[0m \u001b[38;5;66;03m# If we don't have any hooks, we want to skip the rest of the logic in\u001b[39;00m\n\u001b[1;32m   1191\u001b[0m \u001b[38;5;66;03m# this function, and just call forward.\u001b[39;00m\n\u001b[1;32m   1192\u001b[0m \u001b[38;5;28;01mif\u001b[39;00m \u001b[38;5;129;01mnot\u001b[39;00m (\u001b[38;5;28mself\u001b[39m\u001b[38;5;241m.\u001b[39m_backward_hooks \u001b[38;5;129;01mor\u001b[39;00m \u001b[38;5;28mself\u001b[39m\u001b[38;5;241m.\u001b[39m_forward_hooks \u001b[38;5;129;01mor\u001b[39;00m \u001b[38;5;28mself\u001b[39m\u001b[38;5;241m.\u001b[39m_forward_pre_hooks \u001b[38;5;129;01mor\u001b[39;00m _global_backward_hooks\n\u001b[1;32m   1193\u001b[0m         \u001b[38;5;129;01mor\u001b[39;00m _global_forward_hooks \u001b[38;5;129;01mor\u001b[39;00m _global_forward_pre_hooks):\n\u001b[0;32m-> 1194\u001b[0m     \u001b[38;5;28;01mreturn\u001b[39;00m \u001b[43mforward_call\u001b[49m\u001b[43m(\u001b[49m\u001b[38;5;241;43m*\u001b[39;49m\u001b[38;5;28;43minput\u001b[39;49m\u001b[43m,\u001b[49m\u001b[43m \u001b[49m\u001b[38;5;241;43m*\u001b[39;49m\u001b[38;5;241;43m*\u001b[39;49m\u001b[43mkwargs\u001b[49m\u001b[43m)\u001b[49m\n\u001b[1;32m   1195\u001b[0m \u001b[38;5;66;03m# Do not call functions when jit is used\u001b[39;00m\n\u001b[1;32m   1196\u001b[0m full_backward_hooks, non_full_backward_hooks \u001b[38;5;241m=\u001b[39m [], []\n",
      "File \u001b[0;32m~/cslab/lib/python3.8/site-packages/torch/nn/modules/conv.py:613\u001b[0m, in \u001b[0;36mConv3d.forward\u001b[0;34m(self, input)\u001b[0m\n\u001b[1;32m    612\u001b[0m \u001b[38;5;28;01mdef\u001b[39;00m \u001b[38;5;21mforward\u001b[39m(\u001b[38;5;28mself\u001b[39m, \u001b[38;5;28minput\u001b[39m: Tensor) \u001b[38;5;241m-\u001b[39m\u001b[38;5;241m>\u001b[39m Tensor:\n\u001b[0;32m--> 613\u001b[0m     \u001b[38;5;28;01mreturn\u001b[39;00m \u001b[38;5;28;43mself\u001b[39;49m\u001b[38;5;241;43m.\u001b[39;49m\u001b[43m_conv_forward\u001b[49m\u001b[43m(\u001b[49m\u001b[38;5;28;43minput\u001b[39;49m\u001b[43m,\u001b[49m\u001b[43m \u001b[49m\u001b[38;5;28;43mself\u001b[39;49m\u001b[38;5;241;43m.\u001b[39;49m\u001b[43mweight\u001b[49m\u001b[43m,\u001b[49m\u001b[43m \u001b[49m\u001b[38;5;28;43mself\u001b[39;49m\u001b[38;5;241;43m.\u001b[39;49m\u001b[43mbias\u001b[49m\u001b[43m)\u001b[49m\n",
      "File \u001b[0;32m~/cslab/lib/python3.8/site-packages/torch/nn/modules/conv.py:608\u001b[0m, in \u001b[0;36mConv3d._conv_forward\u001b[0;34m(self, input, weight, bias)\u001b[0m\n\u001b[1;32m    596\u001b[0m \u001b[38;5;28;01mif\u001b[39;00m \u001b[38;5;28mself\u001b[39m\u001b[38;5;241m.\u001b[39mpadding_mode \u001b[38;5;241m!=\u001b[39m \u001b[38;5;124m\"\u001b[39m\u001b[38;5;124mzeros\u001b[39m\u001b[38;5;124m\"\u001b[39m:\n\u001b[1;32m    597\u001b[0m     \u001b[38;5;28;01mreturn\u001b[39;00m F\u001b[38;5;241m.\u001b[39mconv3d(\n\u001b[1;32m    598\u001b[0m         F\u001b[38;5;241m.\u001b[39mpad(\n\u001b[1;32m    599\u001b[0m             \u001b[38;5;28minput\u001b[39m, \u001b[38;5;28mself\u001b[39m\u001b[38;5;241m.\u001b[39m_reversed_padding_repeated_twice, mode\u001b[38;5;241m=\u001b[39m\u001b[38;5;28mself\u001b[39m\u001b[38;5;241m.\u001b[39mpadding_mode\n\u001b[0;32m   (...)\u001b[0m\n\u001b[1;32m    606\u001b[0m         \u001b[38;5;28mself\u001b[39m\u001b[38;5;241m.\u001b[39mgroups,\n\u001b[1;32m    607\u001b[0m     )\n\u001b[0;32m--> 608\u001b[0m \u001b[38;5;28;01mreturn\u001b[39;00m \u001b[43mF\u001b[49m\u001b[38;5;241;43m.\u001b[39;49m\u001b[43mconv3d\u001b[49m\u001b[43m(\u001b[49m\n\u001b[1;32m    609\u001b[0m \u001b[43m    \u001b[49m\u001b[38;5;28;43minput\u001b[39;49m\u001b[43m,\u001b[49m\u001b[43m \u001b[49m\u001b[43mweight\u001b[49m\u001b[43m,\u001b[49m\u001b[43m \u001b[49m\u001b[43mbias\u001b[49m\u001b[43m,\u001b[49m\u001b[43m \u001b[49m\u001b[38;5;28;43mself\u001b[39;49m\u001b[38;5;241;43m.\u001b[39;49m\u001b[43mstride\u001b[49m\u001b[43m,\u001b[49m\u001b[43m \u001b[49m\u001b[38;5;28;43mself\u001b[39;49m\u001b[38;5;241;43m.\u001b[39;49m\u001b[43mpadding\u001b[49m\u001b[43m,\u001b[49m\u001b[43m \u001b[49m\u001b[38;5;28;43mself\u001b[39;49m\u001b[38;5;241;43m.\u001b[39;49m\u001b[43mdilation\u001b[49m\u001b[43m,\u001b[49m\u001b[43m \u001b[49m\u001b[38;5;28;43mself\u001b[39;49m\u001b[38;5;241;43m.\u001b[39;49m\u001b[43mgroups\u001b[49m\n\u001b[1;32m    610\u001b[0m \u001b[43m\u001b[49m\u001b[43m)\u001b[49m\n",
      "\u001b[0;31mRuntimeError\u001b[0m: expected scalar type Double but found Float"
     ]
    }
   ],
   "source": [
    "# Prepare and process test data\n",
    "\n",
    "# Make predictions\n",
    "y_true = []\n",
    "y_scores = []\n",
    "\n",
    "with torch.no_grad():\n",
    "    for batch_idx, (data, target) in enumerate(test_loader):\n",
    "        data, target = data.to(device), target.to(device)\n",
    "        output = model(data)\n",
    "        \n",
    "        # Store true labels and predicted scores for EER calculation\n",
    "        y_true.extend(target.cpu().numpy())\n",
    "        y_scores.extend(output.cpu().detach().numpy())\n",
    "\n",
    "# Calculate EER\n",
    "eer = calculate_eer(np.array(y_true), np.array(y_scores))\n",
    "print(f\"Test EER: {eer:.4f}\")"
   ]
  },
  {
   "cell_type": "code",
   "execution_count": 55,
   "id": "13dc54f4-e376-41e8-92f0-feb08dc01772",
   "metadata": {},
   "outputs": [
    {
     "ename": "RuntimeError",
     "evalue": "expected scalar type Double but found Float",
     "output_type": "error",
     "traceback": [
      "\u001b[0;31m---------------------------------------------------------------------------\u001b[0m",
      "\u001b[0;31mRuntimeError\u001b[0m                              Traceback (most recent call last)",
      "Cell \u001b[0;32mIn[55], line 7\u001b[0m\n\u001b[1;32m      5\u001b[0m data, target \u001b[38;5;241m=\u001b[39m data\u001b[38;5;241m.\u001b[39mto(device), target\u001b[38;5;241m.\u001b[39mto(device)\n\u001b[1;32m      6\u001b[0m \u001b[38;5;28;01mwith\u001b[39;00m torch\u001b[38;5;241m.\u001b[39mno_grad():\n\u001b[0;32m----> 7\u001b[0m     output \u001b[38;5;241m=\u001b[39m \u001b[43mmodel\u001b[49m\u001b[43m(\u001b[49m\u001b[43mdata\u001b[49m\u001b[43m)\u001b[49m\n\u001b[1;32m      8\u001b[0m predicted_labels \u001b[38;5;241m=\u001b[39m (output \u001b[38;5;241m>\u001b[39m \u001b[38;5;241m0.5\u001b[39m)\u001b[38;5;241m.\u001b[39mfloat()  \u001b[38;5;66;03m# Assuming 0.5 threshold for binary classification\u001b[39;00m\n\u001b[1;32m      9\u001b[0m total_correct \u001b[38;5;241m+\u001b[39m\u001b[38;5;241m=\u001b[39m (predicted_labels \u001b[38;5;241m==\u001b[39m target)\u001b[38;5;241m.\u001b[39msum()\u001b[38;5;241m.\u001b[39mitem()\n",
      "File \u001b[0;32m~/cslab/lib/python3.8/site-packages/torch/nn/modules/module.py:1194\u001b[0m, in \u001b[0;36mModule._call_impl\u001b[0;34m(self, *input, **kwargs)\u001b[0m\n\u001b[1;32m   1190\u001b[0m \u001b[38;5;66;03m# If we don't have any hooks, we want to skip the rest of the logic in\u001b[39;00m\n\u001b[1;32m   1191\u001b[0m \u001b[38;5;66;03m# this function, and just call forward.\u001b[39;00m\n\u001b[1;32m   1192\u001b[0m \u001b[38;5;28;01mif\u001b[39;00m \u001b[38;5;129;01mnot\u001b[39;00m (\u001b[38;5;28mself\u001b[39m\u001b[38;5;241m.\u001b[39m_backward_hooks \u001b[38;5;129;01mor\u001b[39;00m \u001b[38;5;28mself\u001b[39m\u001b[38;5;241m.\u001b[39m_forward_hooks \u001b[38;5;129;01mor\u001b[39;00m \u001b[38;5;28mself\u001b[39m\u001b[38;5;241m.\u001b[39m_forward_pre_hooks \u001b[38;5;129;01mor\u001b[39;00m _global_backward_hooks\n\u001b[1;32m   1193\u001b[0m         \u001b[38;5;129;01mor\u001b[39;00m _global_forward_hooks \u001b[38;5;129;01mor\u001b[39;00m _global_forward_pre_hooks):\n\u001b[0;32m-> 1194\u001b[0m     \u001b[38;5;28;01mreturn\u001b[39;00m \u001b[43mforward_call\u001b[49m\u001b[43m(\u001b[49m\u001b[38;5;241;43m*\u001b[39;49m\u001b[38;5;28;43minput\u001b[39;49m\u001b[43m,\u001b[49m\u001b[43m \u001b[49m\u001b[38;5;241;43m*\u001b[39;49m\u001b[38;5;241;43m*\u001b[39;49m\u001b[43mkwargs\u001b[49m\u001b[43m)\u001b[49m\n\u001b[1;32m   1195\u001b[0m \u001b[38;5;66;03m# Do not call functions when jit is used\u001b[39;00m\n\u001b[1;32m   1196\u001b[0m full_backward_hooks, non_full_backward_hooks \u001b[38;5;241m=\u001b[39m [], []\n",
      "Cell \u001b[0;32mIn[47], line 82\u001b[0m, in \u001b[0;36mCRNN_Model.forward\u001b[0;34m(self, x)\u001b[0m\n\u001b[1;32m     80\u001b[0m x \u001b[38;5;241m=\u001b[39m x\u001b[38;5;241m.\u001b[39munsqueeze(\u001b[38;5;241m1\u001b[39m) \n\u001b[1;32m     81\u001b[0m \u001b[38;5;66;03m# print(x.shape)\u001b[39;00m\n\u001b[0;32m---> 82\u001b[0m ot \u001b[38;5;241m=\u001b[39m \u001b[38;5;28;43mself\u001b[39;49m\u001b[38;5;241;43m.\u001b[39;49m\u001b[43mCNNblock\u001b[49m\u001b[43m(\u001b[49m\u001b[43mx\u001b[49m\u001b[43m)\u001b[49m\n\u001b[1;32m     83\u001b[0m \u001b[38;5;66;03m# Flatten ot to have shape (batch_size, -1)\u001b[39;00m\n\u001b[1;32m     84\u001b[0m ot \u001b[38;5;241m=\u001b[39m ot\u001b[38;5;241m.\u001b[39mview(ot\u001b[38;5;241m.\u001b[39msize(\u001b[38;5;241m0\u001b[39m), \u001b[38;5;241m-\u001b[39m\u001b[38;5;241m1\u001b[39m)\n",
      "File \u001b[0;32m~/cslab/lib/python3.8/site-packages/torch/nn/modules/module.py:1194\u001b[0m, in \u001b[0;36mModule._call_impl\u001b[0;34m(self, *input, **kwargs)\u001b[0m\n\u001b[1;32m   1190\u001b[0m \u001b[38;5;66;03m# If we don't have any hooks, we want to skip the rest of the logic in\u001b[39;00m\n\u001b[1;32m   1191\u001b[0m \u001b[38;5;66;03m# this function, and just call forward.\u001b[39;00m\n\u001b[1;32m   1192\u001b[0m \u001b[38;5;28;01mif\u001b[39;00m \u001b[38;5;129;01mnot\u001b[39;00m (\u001b[38;5;28mself\u001b[39m\u001b[38;5;241m.\u001b[39m_backward_hooks \u001b[38;5;129;01mor\u001b[39;00m \u001b[38;5;28mself\u001b[39m\u001b[38;5;241m.\u001b[39m_forward_hooks \u001b[38;5;129;01mor\u001b[39;00m \u001b[38;5;28mself\u001b[39m\u001b[38;5;241m.\u001b[39m_forward_pre_hooks \u001b[38;5;129;01mor\u001b[39;00m _global_backward_hooks\n\u001b[1;32m   1193\u001b[0m         \u001b[38;5;129;01mor\u001b[39;00m _global_forward_hooks \u001b[38;5;129;01mor\u001b[39;00m _global_forward_pre_hooks):\n\u001b[0;32m-> 1194\u001b[0m     \u001b[38;5;28;01mreturn\u001b[39;00m \u001b[43mforward_call\u001b[49m\u001b[43m(\u001b[49m\u001b[38;5;241;43m*\u001b[39;49m\u001b[38;5;28;43minput\u001b[39;49m\u001b[43m,\u001b[49m\u001b[43m \u001b[49m\u001b[38;5;241;43m*\u001b[39;49m\u001b[38;5;241;43m*\u001b[39;49m\u001b[43mkwargs\u001b[49m\u001b[43m)\u001b[49m\n\u001b[1;32m   1195\u001b[0m \u001b[38;5;66;03m# Do not call functions when jit is used\u001b[39;00m\n\u001b[1;32m   1196\u001b[0m full_backward_hooks, non_full_backward_hooks \u001b[38;5;241m=\u001b[39m [], []\n",
      "File \u001b[0;32m~/cslab/lib/python3.8/site-packages/torch/nn/modules/container.py:204\u001b[0m, in \u001b[0;36mSequential.forward\u001b[0;34m(self, input)\u001b[0m\n\u001b[1;32m    202\u001b[0m \u001b[38;5;28;01mdef\u001b[39;00m \u001b[38;5;21mforward\u001b[39m(\u001b[38;5;28mself\u001b[39m, \u001b[38;5;28minput\u001b[39m):\n\u001b[1;32m    203\u001b[0m     \u001b[38;5;28;01mfor\u001b[39;00m module \u001b[38;5;129;01min\u001b[39;00m \u001b[38;5;28mself\u001b[39m:\n\u001b[0;32m--> 204\u001b[0m         \u001b[38;5;28minput\u001b[39m \u001b[38;5;241m=\u001b[39m \u001b[43mmodule\u001b[49m\u001b[43m(\u001b[49m\u001b[38;5;28;43minput\u001b[39;49m\u001b[43m)\u001b[49m\n\u001b[1;32m    205\u001b[0m     \u001b[38;5;28;01mreturn\u001b[39;00m \u001b[38;5;28minput\u001b[39m\n",
      "File \u001b[0;32m~/cslab/lib/python3.8/site-packages/torch/nn/modules/module.py:1194\u001b[0m, in \u001b[0;36mModule._call_impl\u001b[0;34m(self, *input, **kwargs)\u001b[0m\n\u001b[1;32m   1190\u001b[0m \u001b[38;5;66;03m# If we don't have any hooks, we want to skip the rest of the logic in\u001b[39;00m\n\u001b[1;32m   1191\u001b[0m \u001b[38;5;66;03m# this function, and just call forward.\u001b[39;00m\n\u001b[1;32m   1192\u001b[0m \u001b[38;5;28;01mif\u001b[39;00m \u001b[38;5;129;01mnot\u001b[39;00m (\u001b[38;5;28mself\u001b[39m\u001b[38;5;241m.\u001b[39m_backward_hooks \u001b[38;5;129;01mor\u001b[39;00m \u001b[38;5;28mself\u001b[39m\u001b[38;5;241m.\u001b[39m_forward_hooks \u001b[38;5;129;01mor\u001b[39;00m \u001b[38;5;28mself\u001b[39m\u001b[38;5;241m.\u001b[39m_forward_pre_hooks \u001b[38;5;129;01mor\u001b[39;00m _global_backward_hooks\n\u001b[1;32m   1193\u001b[0m         \u001b[38;5;129;01mor\u001b[39;00m _global_forward_hooks \u001b[38;5;129;01mor\u001b[39;00m _global_forward_pre_hooks):\n\u001b[0;32m-> 1194\u001b[0m     \u001b[38;5;28;01mreturn\u001b[39;00m \u001b[43mforward_call\u001b[49m\u001b[43m(\u001b[49m\u001b[38;5;241;43m*\u001b[39;49m\u001b[38;5;28;43minput\u001b[39;49m\u001b[43m,\u001b[49m\u001b[43m \u001b[49m\u001b[38;5;241;43m*\u001b[39;49m\u001b[38;5;241;43m*\u001b[39;49m\u001b[43mkwargs\u001b[49m\u001b[43m)\u001b[49m\n\u001b[1;32m   1195\u001b[0m \u001b[38;5;66;03m# Do not call functions when jit is used\u001b[39;00m\n\u001b[1;32m   1196\u001b[0m full_backward_hooks, non_full_backward_hooks \u001b[38;5;241m=\u001b[39m [], []\n",
      "File \u001b[0;32m~/cslab/lib/python3.8/site-packages/torch/nn/modules/container.py:204\u001b[0m, in \u001b[0;36mSequential.forward\u001b[0;34m(self, input)\u001b[0m\n\u001b[1;32m    202\u001b[0m \u001b[38;5;28;01mdef\u001b[39;00m \u001b[38;5;21mforward\u001b[39m(\u001b[38;5;28mself\u001b[39m, \u001b[38;5;28minput\u001b[39m):\n\u001b[1;32m    203\u001b[0m     \u001b[38;5;28;01mfor\u001b[39;00m module \u001b[38;5;129;01min\u001b[39;00m \u001b[38;5;28mself\u001b[39m:\n\u001b[0;32m--> 204\u001b[0m         \u001b[38;5;28minput\u001b[39m \u001b[38;5;241m=\u001b[39m \u001b[43mmodule\u001b[49m\u001b[43m(\u001b[49m\u001b[38;5;28;43minput\u001b[39;49m\u001b[43m)\u001b[49m\n\u001b[1;32m    205\u001b[0m     \u001b[38;5;28;01mreturn\u001b[39;00m \u001b[38;5;28minput\u001b[39m\n",
      "File \u001b[0;32m~/cslab/lib/python3.8/site-packages/torch/nn/modules/module.py:1194\u001b[0m, in \u001b[0;36mModule._call_impl\u001b[0;34m(self, *input, **kwargs)\u001b[0m\n\u001b[1;32m   1190\u001b[0m \u001b[38;5;66;03m# If we don't have any hooks, we want to skip the rest of the logic in\u001b[39;00m\n\u001b[1;32m   1191\u001b[0m \u001b[38;5;66;03m# this function, and just call forward.\u001b[39;00m\n\u001b[1;32m   1192\u001b[0m \u001b[38;5;28;01mif\u001b[39;00m \u001b[38;5;129;01mnot\u001b[39;00m (\u001b[38;5;28mself\u001b[39m\u001b[38;5;241m.\u001b[39m_backward_hooks \u001b[38;5;129;01mor\u001b[39;00m \u001b[38;5;28mself\u001b[39m\u001b[38;5;241m.\u001b[39m_forward_hooks \u001b[38;5;129;01mor\u001b[39;00m \u001b[38;5;28mself\u001b[39m\u001b[38;5;241m.\u001b[39m_forward_pre_hooks \u001b[38;5;129;01mor\u001b[39;00m _global_backward_hooks\n\u001b[1;32m   1193\u001b[0m         \u001b[38;5;129;01mor\u001b[39;00m _global_forward_hooks \u001b[38;5;129;01mor\u001b[39;00m _global_forward_pre_hooks):\n\u001b[0;32m-> 1194\u001b[0m     \u001b[38;5;28;01mreturn\u001b[39;00m \u001b[43mforward_call\u001b[49m\u001b[43m(\u001b[49m\u001b[38;5;241;43m*\u001b[39;49m\u001b[38;5;28;43minput\u001b[39;49m\u001b[43m,\u001b[49m\u001b[43m \u001b[49m\u001b[38;5;241;43m*\u001b[39;49m\u001b[38;5;241;43m*\u001b[39;49m\u001b[43mkwargs\u001b[49m\u001b[43m)\u001b[49m\n\u001b[1;32m   1195\u001b[0m \u001b[38;5;66;03m# Do not call functions when jit is used\u001b[39;00m\n\u001b[1;32m   1196\u001b[0m full_backward_hooks, non_full_backward_hooks \u001b[38;5;241m=\u001b[39m [], []\n",
      "File \u001b[0;32m~/cslab/lib/python3.8/site-packages/torch/nn/modules/conv.py:613\u001b[0m, in \u001b[0;36mConv3d.forward\u001b[0;34m(self, input)\u001b[0m\n\u001b[1;32m    612\u001b[0m \u001b[38;5;28;01mdef\u001b[39;00m \u001b[38;5;21mforward\u001b[39m(\u001b[38;5;28mself\u001b[39m, \u001b[38;5;28minput\u001b[39m: Tensor) \u001b[38;5;241m-\u001b[39m\u001b[38;5;241m>\u001b[39m Tensor:\n\u001b[0;32m--> 613\u001b[0m     \u001b[38;5;28;01mreturn\u001b[39;00m \u001b[38;5;28;43mself\u001b[39;49m\u001b[38;5;241;43m.\u001b[39;49m\u001b[43m_conv_forward\u001b[49m\u001b[43m(\u001b[49m\u001b[38;5;28;43minput\u001b[39;49m\u001b[43m,\u001b[49m\u001b[43m \u001b[49m\u001b[38;5;28;43mself\u001b[39;49m\u001b[38;5;241;43m.\u001b[39;49m\u001b[43mweight\u001b[49m\u001b[43m,\u001b[49m\u001b[43m \u001b[49m\u001b[38;5;28;43mself\u001b[39;49m\u001b[38;5;241;43m.\u001b[39;49m\u001b[43mbias\u001b[49m\u001b[43m)\u001b[49m\n",
      "File \u001b[0;32m~/cslab/lib/python3.8/site-packages/torch/nn/modules/conv.py:608\u001b[0m, in \u001b[0;36mConv3d._conv_forward\u001b[0;34m(self, input, weight, bias)\u001b[0m\n\u001b[1;32m    596\u001b[0m \u001b[38;5;28;01mif\u001b[39;00m \u001b[38;5;28mself\u001b[39m\u001b[38;5;241m.\u001b[39mpadding_mode \u001b[38;5;241m!=\u001b[39m \u001b[38;5;124m\"\u001b[39m\u001b[38;5;124mzeros\u001b[39m\u001b[38;5;124m\"\u001b[39m:\n\u001b[1;32m    597\u001b[0m     \u001b[38;5;28;01mreturn\u001b[39;00m F\u001b[38;5;241m.\u001b[39mconv3d(\n\u001b[1;32m    598\u001b[0m         F\u001b[38;5;241m.\u001b[39mpad(\n\u001b[1;32m    599\u001b[0m             \u001b[38;5;28minput\u001b[39m, \u001b[38;5;28mself\u001b[39m\u001b[38;5;241m.\u001b[39m_reversed_padding_repeated_twice, mode\u001b[38;5;241m=\u001b[39m\u001b[38;5;28mself\u001b[39m\u001b[38;5;241m.\u001b[39mpadding_mode\n\u001b[0;32m   (...)\u001b[0m\n\u001b[1;32m    606\u001b[0m         \u001b[38;5;28mself\u001b[39m\u001b[38;5;241m.\u001b[39mgroups,\n\u001b[1;32m    607\u001b[0m     )\n\u001b[0;32m--> 608\u001b[0m \u001b[38;5;28;01mreturn\u001b[39;00m \u001b[43mF\u001b[49m\u001b[38;5;241;43m.\u001b[39;49m\u001b[43mconv3d\u001b[49m\u001b[43m(\u001b[49m\n\u001b[1;32m    609\u001b[0m \u001b[43m    \u001b[49m\u001b[38;5;28;43minput\u001b[39;49m\u001b[43m,\u001b[49m\u001b[43m \u001b[49m\u001b[43mweight\u001b[49m\u001b[43m,\u001b[49m\u001b[43m \u001b[49m\u001b[43mbias\u001b[49m\u001b[43m,\u001b[49m\u001b[43m \u001b[49m\u001b[38;5;28;43mself\u001b[39;49m\u001b[38;5;241;43m.\u001b[39;49m\u001b[43mstride\u001b[49m\u001b[43m,\u001b[49m\u001b[43m \u001b[49m\u001b[38;5;28;43mself\u001b[39;49m\u001b[38;5;241;43m.\u001b[39;49m\u001b[43mpadding\u001b[49m\u001b[43m,\u001b[49m\u001b[43m \u001b[49m\u001b[38;5;28;43mself\u001b[39;49m\u001b[38;5;241;43m.\u001b[39;49m\u001b[43mdilation\u001b[49m\u001b[43m,\u001b[49m\u001b[43m \u001b[49m\u001b[38;5;28;43mself\u001b[39;49m\u001b[38;5;241;43m.\u001b[39;49m\u001b[43mgroups\u001b[49m\n\u001b[1;32m    610\u001b[0m \u001b[43m\u001b[49m\u001b[43m)\u001b[49m\n",
      "\u001b[0;31mRuntimeError\u001b[0m: expected scalar type Double but found Float"
     ]
    }
   ],
   "source": [
    "total_correct = 0\n",
    "total_samples = 0\n",
    "\n",
    "for data, target in test_loader:\n",
    "    data, target = data.to(device), target.to(device)\n",
    "    with torch.no_grad():\n",
    "        output = model(data)\n",
    "    predicted_labels = (output > 0.5).float()  # Assuming 0.5 threshold for binary classification\n",
    "    total_correct += (predicted_labels == target).sum().item()\n",
    "    total_samples += target.size(0)\n",
    "\n",
    "test_accuracy = total_correct / total_samples\n",
    "print(f\"Test Accuracy: {test_accuracy:.4f}\")"
   ]
  },
  {
   "cell_type": "code",
   "execution_count": null,
   "id": "bc509201-89ec-4864-9d5d-809515ddf90e",
   "metadata": {},
   "outputs": [],
   "source": []
  }
 ],
 "metadata": {
  "kernelspec": {
   "display_name": "Python 3 (ipykernel)",
   "language": "python",
   "name": "python3"
  },
  "language_info": {
   "codemirror_mode": {
    "name": "ipython",
    "version": 3
   },
   "file_extension": ".py",
   "mimetype": "text/x-python",
   "name": "python",
   "nbconvert_exporter": "python",
   "pygments_lexer": "ipython3",
   "version": "3.8.10"
  }
 },
 "nbformat": 4,
 "nbformat_minor": 5
}
